{
 "cells": [
  {
   "cell_type": "markdown",
   "metadata": {},
   "source": [
    "https://www.alpha-i.co/blog/MNIST-for-ML-beginners-The-Bayesian-Way.html"
   ]
  },
  {
   "cell_type": "code",
   "execution_count": 1,
   "metadata": {
    "collapsed": true
   },
   "outputs": [],
   "source": [
    "%matplotlib inline\n",
    "import matplotlib.pyplot as plt\n",
    "import numpy as np\n",
    "import seaborn as sns\n",
    "import tensorflow as tf\n",
    "from tensorflow.examples.tutorials.mnist import input_data\n",
    "from edward.models import Categorical, Normal\n",
    "import edward as ed\n",
    "import pandas as pd\n",
    "ed.set_seed(314159)"
   ]
  },
  {
   "cell_type": "code",
   "execution_count": 2,
   "metadata": {
    "collapsed": false
   },
   "outputs": [
    {
     "name": "stdout",
     "output_type": "stream",
     "text": [
      "Extracting MNIST_data/train-images-idx3-ubyte.gz\n",
      "Extracting MNIST_data/train-labels-idx1-ubyte.gz\n",
      "Extracting MNIST_data/t10k-images-idx3-ubyte.gz\n",
      "Extracting MNIST_data/t10k-labels-idx1-ubyte.gz\n"
     ]
    }
   ],
   "source": [
    "# Use the TensorFlow method to download and/or load the data.\n",
    "mnist = input_data.read_data_sets(\"MNIST_data/\", one_hot=True)"
   ]
  },
  {
   "cell_type": "code",
   "execution_count": 33,
   "metadata": {
    "collapsed": false
   },
   "outputs": [],
   "source": [
    "total = mnist.train.num_examples #number of training examples\n",
    "N = total/10   # number of images in a minibatch.\n",
    "D = 784   # number of features.\n",
    "K = 10    # number of classes.\n",
    "P = 50    # number of neurons."
   ]
  },
  {
   "cell_type": "code",
   "execution_count": 34,
   "metadata": {
    "collapsed": true
   },
   "outputs": [],
   "source": [
    "#two-layer neural network.\n",
    "def neural_network(x, W_0, W_1, b_0, b_1):\n",
    "    h = tf.matmul(x, W_0) + b_0\n",
    "    h = tf.tanh(h)\n",
    "    #h = tf.exp(tf.negative(tf.square(h)))\n",
    "    h = tf.matmul(h, W_1) + b_1\n",
    "    return h\n",
    "\n",
    "def display_draws(loss, train_x, EPOCH_NUM):\n",
    "    fig, axes = plt.subplots(nrows=1, ncols=1, figsize=(16, 3.5))\n",
    "    plt.plot(np.arange(EPOCH_NUM), loss / len(train_x), label='Train')\n",
    "    plt.legend(fontsize=20)\n",
    "    plt.xlabel('Epoch', fontsize=15)\n",
    "    plt.ylabel('ELBO', fontsize=15)\n",
    "    plt.show()"
   ]
  },
  {
   "cell_type": "code",
   "execution_count": 35,
   "metadata": {
    "collapsed": false
   },
   "outputs": [],
   "source": [
    "# Create a placeholder to hold the data (in minibatches) in a TensorFlow graph.\n",
    "x = tf.placeholder(tf.float32, [None, D])\n",
    "# Normal(0,1) priors for the variables. Note that the syntax assumes TensorFlow 1.1.\n",
    "w0 = Normal(loc=tf.zeros([D, P]), scale=tf.ones([D, P]))\n",
    "b0 = Normal(loc=tf.zeros(P), scale=tf.ones(P))\n",
    "w1 = Normal(loc=tf.zeros([P, K]), scale=tf.ones([P, K]))\n",
    "b1 = Normal(loc=tf.zeros(K), scale=tf.ones(K))\n",
    "# Categorical likelihood for classication.\n",
    "y =Categorical(neural_network(x, w0,w1, b0, b1))"
   ]
  },
  {
   "cell_type": "code",
   "execution_count": 36,
   "metadata": {
    "collapsed": true
   },
   "outputs": [],
   "source": [
    "# Contruct the q(w) and q(b). in this case we assume Normal distributions.\n",
    "qw0 = Normal(loc=tf.Variable(tf.random_normal([D, P])),\n",
    "              scale=tf.nn.softplus(tf.Variable(tf.random_normal([D, P]))))\n",
    "qb0 = Normal(loc=tf.Variable(tf.random_normal([P])),\n",
    "              scale=tf.nn.softplus(tf.Variable(tf.random_normal([P]))))\n",
    "qw1 = Normal(loc=tf.Variable(tf.random_normal([P, K])),\n",
    "              scale=tf.nn.softplus(tf.Variable(tf.random_normal([P, K]))))\n",
    "qb1 = Normal(loc=tf.Variable(tf.random_normal([K])),\n",
    "              scale=tf.nn.softplus(tf.Variable(tf.random_normal([K]))))"
   ]
  },
  {
   "cell_type": "code",
   "execution_count": 37,
   "metadata": {
    "collapsed": true
   },
   "outputs": [],
   "source": [
    "# We use a placeholder for the labels in anticipation of the traning data.\n",
    "y_ph = tf.placeholder(tf.int32, [N])\n",
    "# Define the VI inference technique, ie. minimise the KL divergence between q and p.\n",
    "inference = ed.KLqp({w0: qw0, b0: qb0,w1:qw1,b1:qb1}, data={y:y_ph})"
   ]
  },
  {
   "cell_type": "code",
   "execution_count": 44,
   "metadata": {
    "collapsed": true
   },
   "outputs": [],
   "source": [
    "learning_rate = 5e-6\n",
    "optimizer = tf.train.GradientDescentOptimizer(learning_rate)"
   ]
  },
  {
   "cell_type": "code",
   "execution_count": 64,
   "metadata": {
    "collapsed": true
   },
   "outputs": [],
   "source": [
    "inference.initialize(optimizer=optimizer,n_iter=5000,n_print=100, scale={y: float(total) / N})"
   ]
  },
  {
   "cell_type": "code",
   "execution_count": 46,
   "metadata": {
    "collapsed": true
   },
   "outputs": [],
   "source": [
    "# We will use an interactive session.\n",
    "sess = tf.InteractiveSession()\n",
    "# Initialise all the vairables in the session.\n",
    "tf.global_variables_initializer().run()"
   ]
  },
  {
   "cell_type": "code",
   "execution_count": 47,
   "metadata": {
    "collapsed": true
   },
   "outputs": [],
   "source": [
    "epoch_num = 200\n",
    "train_lossbb = np.zeros(epoch_num)"
   ]
  },
  {
   "cell_type": "code",
   "execution_count": 48,
   "metadata": {
    "collapsed": false
   },
   "outputs": [
    {
     "name": "stdout",
     "output_type": "stream",
     "text": [
      "2000/5000 [ 40%] ████████████                   ETA: 111s | Loss: 91948.2817\b\b\b\b\b\b\b\b\b\b\b\b\b\b\b\b\b\b\b\b\b\b\b\b\b\b\b\b\b\b\b\b\b\b\b\b\b\b\b\b\b\b\b\b\b\b\b\b\b\b\b\b\b\b\b\b\b\b\b\b\b\b\b\b\b\b\b\b\b\b\b\b\b\b\b\b\b\b\b\b\b\b\b\b\b\b\b\b\b\b\b\b\b\b\b\b\b\b\b\b\b\b\b\b\b\b\b\b\b\b\b\b\b\b\b\b\b\b\b\b\b\b\b\b\b\b\b\b\b\b\b\b\b\b\b\b\b\b\b\b\b\b\b\b\b\b\b\b\b\b\b\b\b\b\b\b\b\b\b\b\b\b\b\b\b\b\b\b\b\b\b\b\b\b\b\b\b\b\b\b\b\b\b\b\b\b\b\b\b\b\b\b\b\b\b\b\b\b\b\b\b\b\b\b\b\b\b\b\b\b\b\b\b\b\b\b\b\b\b\b\b\b\b\b\b\b\b\b\b\b\b\b\b\b\b\b\b\b\b\b\b\b\b\b\b\b\b\b\b\b\b\b\b\b\b\b\b\b\b\b\b\b\b\b\b\b\b\b\b\b\b\b\b\b\b\b\b\b\b\b\b\b\b\b\b\b\b\b\b\b\b\b\b\b\b\b\b\b\b\b\b\b\b\b\b\b\b\b\b\b\b\b\b\b\b\b\b\b\b\b\b\b\b\b\b\b\b\b\b\b\b\b\b\b\b\b\b\b\b\b\b\b\b\b\b\b\b\b\b\b\b\b\b\b\b\b\b\b\b\b\b\b\b\b\b\b\b\b\b\b\b\b\b\b\b\b\b\b\b\b\b\b\b\b\b\b\b\b\b\b\b\b\b\b\b\b\b\b\b\b\b\b\b\b\b\b\b\b\b\b\b\b\b\b\b\b\b\b\b\b\b\b\b\b\b\b\b\b\b\b\b\b\b\b\b\b\b\b\b\b\b\b\b\b\b\b\b\b\b\b\b\b\b\b\b\b\b\b\b\b\b\b\b\b\b\b\b\b\b\b\b\b\b\b\b\b\b\b\b\b\b\b\b\b\b\b\b\b\b\b\b\b\b\b\b\b\b\b\b\b\b\b\b\b\b\b\b\b\b\b\b\b\b\b\b\b\b\b\b\b\b\b\b\b\b\b\b\b\b\b\b\b\b\b\b\b\b\b\b\b\b\b\b\b\b\b\b\b\b\b\b\b\b\b\b\b\b\b\b\b\b\b\b\b\b\b\b\b\b\b\b\b\b\b\b\b\b\b\b\b\b\b\b\b\b\b\b\b\b\b\b\b\b\b\b\b\b\b\b\b\b\b\b\b\b\b\b\b\b\b\b\b\b\b\b\b\b\b\b\b\b\b\b\b\b\b\b\b\b\b\b\b\b\b\b\b\b\b\b\b\b\b\b\b\b\b\b\b\b\b\b\b\b\b\b\b\b\b\b\b\b\b\b\b\b\b\b\b\b\b\b\b\b\b\b\b\b\b\b\b\b\b\b\b\b\b\b\b\b\b\b\b\b\b\b\b\b\b\b\b\b\b\b\b\b\b\b\b\b\b\b\b\b\b\b\b\b\b\b\b\b\b\b\b\b\b\b\b\b\b\b\b\b\b\b\b\b\b\b\b\b\b\b\b\b\b\b\b\b\b\b\b\b\b\b\b\b\b\b\b\b\b\b\b\b\b\b\b\b\b\b\b\b\b\b\b\b\b\b\b\b\b\b\b\b\b\b\b\b\b\b\b\b\b\b\b\b\b\b\b\b\b\b\b\b\b\b\b\b\b\b\b\b\b\b\b\b\b\b\b\b\b\b\b\b\b\b\b\b\b\b\b\b\b\b\b\b\b\b\b\b\b\b\b\b\b\b\b\b\b\b\b\b\b\b\b\b\b\b\b\b\b\b\b\b\b\b\b\b\b\b\b\b\b\b\b\b\b\b\b\b\b\b\b\b\b\b\b\b\b\b\b\b\b\b\b\b\b\b\b\b\b\b\b\b\b\b\b\b\b\b\b\b\b\b\b\b\b\b\b\b\b\b\b\b\b\b\b\b\b\b\b\b\b\b\b\b\b\b\b\b\b\b\b\b\b\b\b\b\b\b\b\b\b\b\b\b\b\b\b\b\b\b\b\b\b\b\b\b\b\b\b\b\b\b\b\b\b\b\b\b\b\b\b\b\b\b\b\b\b\b\b\b\b\b\b\b\b\b\b\b\b\b\b\b\b\b\b\b\b\b\b\b\b\b\b\b\b\b\b\b\b\b\b\b\b\b\b\b\b\b\b\b\b\b\b\b\b\b\b\b\b\b\b\b\b\b\b\b\b\b\b\b\b\b\b\b\b\b\b\b\b\b\b\b\b\b\b\b\b\b\b\b\b\b\b\b\b\b\b\b\b\b\b\b\b\b\b\b\b\b\b\b\b\b\b\b\b\b\b\b\b\b\b\b\b\b\b\b\b\b\b\b\b\b\b\b\b\b\b\b\b\b\b\b\b\b\b\b\b\b\b\b\b\b\b\b\b\b\b\b\b\b\b\b\b\b\b\b\b\b\b\b\b\b\b\b\b\b\b\b\b\b\b\b\b\b\b\b\b\b\b\b\b\b\b\b\b\b\b\b\b\b\b\b\b\b\b\b\b\b\b\b\b\b\b\b\b\b\b\b\b\b\b\b\b\b\b\b\b\b\b\b\b\b\b\b\b\b\b\b\b\b\b\b\b\b\b\b\b\b\b\b\b\b\b\b\b\b\b\b\b\b\b\b\b\b\b\b\b\b\b\b\b\b\b\b\b\b\b\b\b\b\b\b\b\b\b\b\b\b\b\b\b\b\b\b\b\b\b\b\b\b\b\b\b\b\b\b\b\b\b\b\b\b\b\b\b\b\b\b\b\b\b\b\b\b\b\b\b\b\b\b\b\b\b\b\b\b\b\b\b\b\b\b\b\b\b\b\b\b\b\b\b\b\b\b\b\b\b\b\b\b\b\b\b\b\b\b\b\b\b\b\b\b\b\b\b\b\b\b\b\b\b\b\b\b\b\b\b\b\b\b\b\b\b\b\b\b\b\b\b\b\b\b\b\b\b\b\b\b\b\b\b\b\b\b\b\b\b\b\b\b\b\b\b\b\b\b\b\b\b\b\b\b\b\b\b\b\b\b\b\b\b\b\b\b\b\b\b\b\b\b\b\b\b\b\b\b\b\b\b\b\b\b\b\b\b\b\b\b\b\b\b\b\b\b\b\b\b\b\b\b\b\b\b\b\b\b\b\b\b\b\b\b\b\b\b\b\b\b\b\b\b\b\b\b\b\b\b\b\b\b\b\b\b\b\b\b\b\b\b\b\b\b\b\b\b\b\b\b\b\b\b\b\b\b\b\b\b\b\b\b\b\b\b\b\b\b\b\b\b\b\b\b\b\b\b\b\b\b\b\b\b\b\b\b\b\b\b\b\b\b\b\b\b\b\b\b\b\b\b\b\b\b\b\b\b\b\b\b\b\b\b\b\b\b\b\b\b\b\b\b\b\b\b\b\b\b\b\b\b\b\b\b\b\b\b\b\b\b\b\b\b\b\b\b\b\b\b\b\b\b\b\b\b\b\b\b\b\b\b\b\b\b\b\b\b\b\b\b\b\b\b\b\b\b\b\b\b\b\b\b\b\b\b\b\b\b\b\b\b\b\b\b"
     ]
    }
   ],
   "source": [
    "for epoch in range(epoch_num):\n",
    "    for _ in range(0, total, N):\n",
    "        X_batch, Y_batch = mnist.train.next_batch(N)\n",
    "        # TensorFlow method gives the label data in a one hot vetor format. We convert that into a single label.\n",
    "        Y_batch = np.argmax(Y_batch,axis=1)\n",
    "        info_dict = inference.update(feed_dict={x: X_batch, y_ph: Y_batch})\n",
    "        \n",
    "    train_lossbb[epoch] = info_dict['loss']\n",
    "    inference.print_progress(info_dict)"
   ]
  },
  {
   "cell_type": "code",
   "execution_count": 49,
   "metadata": {
    "collapsed": false
   },
   "outputs": [
    {
     "data": {
      "image/png": "[encoded data removed]",
      "text/plain": [
       "<matplotlib.figure.Figure at 0x130b64110>"
      ]
     },
     "metadata": {},
     "output_type": "display_data"
    }
   ],
   "source": [
    "display_draws(train_lossbb, X_batch, epoch_num)"
   ]
  },
  {
   "cell_type": "markdown",
   "metadata": {},
   "source": [
    "# Evaluate the model Big Batch"
   ]
  },
  {
   "cell_type": "code",
   "execution_count": 50,
   "metadata": {
    "collapsed": true
   },
   "outputs": [],
   "source": [
    "# Load the test images.\n",
    "X_test = mnist.test.images\n",
    "# TensorFlow method gives the label data in a one hot vetor format. We convert that into a single label.\n",
    "Y_test = np.argmax(mnist.test.labels,axis=1)"
   ]
  },
  {
   "cell_type": "code",
   "execution_count": 51,
   "metadata": {
    "collapsed": false
   },
   "outputs": [],
   "source": [
    "# Generate samples from the posterior and store them.\n",
    "n_samples = 10\n",
    "prob_lst = []\n",
    "samples = []\n",
    "w0_samples = []\n",
    "b0_samples = []\n",
    "w1_samples = []\n",
    "b1_samples = []\n",
    "for _ in range(n_samples):\n",
    "    w0_samp = qw0.sample()\n",
    "    b0_samp = qb0.sample()\n",
    "    w0_samples.append(w0_samp)\n",
    "    b0_samples.append(b0_samp)\n",
    "    \n",
    "    w1_samp = qw1.sample()\n",
    "    b1_samp = qb1.sample()\n",
    "    w1_samples.append(w1_samp)\n",
    "    b1_samples.append(b1_samp)\n",
    "    \n",
    "    # Also compue the probabiliy of each class for each (w,b) sample.\n",
    "    h=tf.matmul( X_test,w0_samp ) + b0_samp\n",
    "    prob = tf.nn.softmax(tf.matmul( h,w1_samp ) + b1_samp)\n",
    "    prob_lst.append(prob.eval())\n",
    "    sample = tf.concat([tf.reshape(w0_samp,[-1]),tf.reshape(w1_samp,[-1]),b0_samp,b1_samp],0)\n",
    "    samples.append(sample.eval())"
   ]
  },
  {
   "cell_type": "code",
   "execution_count": 52,
   "metadata": {
    "collapsed": false
   },
   "outputs": [
    {
     "name": "stdout",
     "output_type": "stream",
     "text": [
      "('accuracy in predicting the test data = ', 83.0)\n"
     ]
    }
   ],
   "source": [
    "# Here we compute the mean of probabilties for each class for all the (w,b) samples.\n",
    "# We then use the class with maximum of the mean proabilities as the prediction. \n",
    "# In other words, we have used (w,b) samples to construct a set of models and\n",
    "# used their combined outputs to make the predcitions.\n",
    "Y_pred = np.argmax(np.mean(prob_lst,axis=0),axis=1)\n",
    "print(\"accuracy in predicting the test data = \", (Y_pred == Y_test).mean()*100)"
   ]
  },
  {
   "cell_type": "code",
   "execution_count": 53,
   "metadata": {
    "collapsed": false
   },
   "outputs": [
    {
     "name": "stdout",
     "output_type": "stream",
     "text": [
      "('truth = ', 7)\n"
     ]
    },
    {
     "data": {
      "text/plain": [
       "<matplotlib.image.AxesImage at 0x1b1d3d590>"
      ]
     },
     "execution_count": 53,
     "metadata": {},
     "output_type": "execute_result"
    },
    {
     "data": {
      "image/png": "[encoded data removed]",
      "text/plain": [
       "<matplotlib.figure.Figure at 0x1d51ec610>"
      ]
     },
     "metadata": {},
     "output_type": "display_data"
    }
   ],
   "source": [
    "# Load the first image from the test data and its label.\n",
    "test_image = X_test[0:1]\n",
    "test_label = Y_test[0]\n",
    "print('truth = ',test_label)\n",
    "pixels = test_image.reshape((28, 28))\n",
    "plt.imshow(pixels,cmap='Blues')"
   ]
  },
  {
   "cell_type": "code",
   "execution_count": 54,
   "metadata": {
    "collapsed": true
   },
   "outputs": [],
   "source": [
    "# Now the check what the model perdicts for each (w,b) sample from the posterior. This may take a few seconds...\n",
    "sing_img_probs = []\n",
    "for w0_samp,w1_samp,b0_samp,b1_samp in zip(w0_samples,w1_samples,b0_samples,b1_samples):\n",
    "    h=tf.matmul( X_test[0:1],w0_samp ) + b0_samp\n",
    "    prob = tf.nn.softmax(tf.matmul( h,w1_samp ) + b1_samp)\n",
    "    sing_img_probs.append(prob.eval())"
   ]
  },
  {
   "cell_type": "code",
   "execution_count": 55,
   "metadata": {
    "collapsed": false
   },
   "outputs": [
    {
     "data": {
      "text/plain": [
       "<matplotlib.text.Text at 0x1d57d6ed0>"
      ]
     },
     "execution_count": 55,
     "metadata": {},
     "output_type": "execute_result"
    },
    {
     "data": {
      "image/png": "[encoded data removed]",
      "text/plain": [
       "<matplotlib.figure.Figure at 0x1b2338550>"
      ]
     },
     "metadata": {},
     "output_type": "display_data"
    }
   ],
   "source": [
    "# Create a histogram of these predictions.\n",
    "plt.hist(np.argmax(sing_img_probs,axis=2),bins=range(10))\n",
    "plt.xticks(np.arange(0,10))\n",
    "plt.xlim(0,10)\n",
    "plt.xlabel(\"Accuracy of the prediction of the test digit\")\n",
    "plt.ylabel(\"Frequency\")"
   ]
  },
  {
   "cell_type": "markdown",
   "metadata": {
    "collapsed": true
   },
   "source": [
    "# KL Optim Small Batch"
   ]
  },
  {
   "cell_type": "code",
   "execution_count": 56,
   "metadata": {
    "collapsed": true
   },
   "outputs": [],
   "source": [
    "N = total/100   # number of images in a minibatch.\n",
    "# Create a placeholder to hold the data (in minibatches) in a TensorFlow graph.\n",
    "x = tf.placeholder(tf.float32, [None, D])\n",
    "# Normal(0,1) priors for the variables. Note that the syntax assumes TensorFlow 1.1.\n",
    "w0 = Normal(loc=tf.zeros([D, P]), scale=tf.ones([D, P]))\n",
    "b0 = Normal(loc=tf.zeros(P), scale=tf.ones(P))\n",
    "w1 = Normal(loc=tf.zeros([P, K]), scale=tf.ones([P, K]))\n",
    "b1 = Normal(loc=tf.zeros(K), scale=tf.ones(K))\n",
    "# Categorical likelihood for classication.\n",
    "y =Categorical(neural_network(x, w0,w1, b0, b1))\n",
    "# Contruct the q(w) and q(b). in this case we assume Normal distributions.\n",
    "qw0 = Normal(loc=tf.Variable(tf.random_normal([D, P])),\n",
    "              scale=tf.nn.softplus(tf.Variable(tf.random_normal([D, P]))))\n",
    "qb0 = Normal(loc=tf.Variable(tf.random_normal([P])),\n",
    "              scale=tf.nn.softplus(tf.Variable(tf.random_normal([P]))))\n",
    "qw1 = Normal(loc=tf.Variable(tf.random_normal([P, K])),\n",
    "              scale=tf.nn.softplus(tf.Variable(tf.random_normal([P, K]))))\n",
    "qb1 = Normal(loc=tf.Variable(tf.random_normal([K])),\n",
    "              scale=tf.nn.softplus(tf.Variable(tf.random_normal([K]))))\n",
    "# We use a placeholder for the labels in anticipation of the traning data.\n",
    "y_ph = tf.placeholder(tf.int32, [N])\n",
    "# Define the VI inference technique, ie. minimise the KL divergence between q and p.\n",
    "inference = ed.KLqp({w0: qw0, b0: qb0,w1:qw1,b1:qb1}, data={y:y_ph})\n",
    "# Initialse the infernce variables\n",
    "inference.initialize(optimizer=optimizer,n_iter=5000,n_print=100, scale={y: float(total) / N})\n",
    "# We will use an interactive session.\n",
    "sess = tf.InteractiveSession()\n",
    "# Initialise all the vairables in the session.\n",
    "tf.global_variables_initializer().run()\n",
    "epoch_num = 200\n",
    "train_losssb = np.zeros(epoch_num)\n",
    "\n",
    "for epoch in range(epoch_num):\n",
    "    for _ in range(0, total, N):\n",
    "        X_batch, Y_batch = mnist.train.next_batch(N)\n",
    "        # TensorFlow method gives the label data in a one hot vetor format. We convert that into a single label.\n",
    "        Y_batch = np.argmax(Y_batch,axis=1)\n",
    "        info_dict = inference.update(feed_dict={x: X_batch, y_ph: Y_batch})\n",
    "        \n",
    "    train_losssb[epoch] = info_dict['loss']\n",
    "    # inference.print_progress(info_dict)"
   ]
  },
  {
   "cell_type": "code",
   "execution_count": 57,
   "metadata": {
    "collapsed": false
   },
   "outputs": [
    {
     "data": {
      "image/png": "[encoded data removed]",
      "text/plain": [
       "<matplotlib.figure.Figure at 0x1ba5c9b10>"
      ]
     },
     "metadata": {},
     "output_type": "display_data"
    }
   ],
   "source": [
    "fig, axes = plt.subplots(nrows=1, ncols=1, figsize=(16, 3.5))\n",
    "plt.plot(np.arange(epoch_num), train_lossbb / len(X_batch), label='Big batch')\n",
    "plt.plot(np.arange(epoch_num), train_losssb / len(X_batch), label='Small batch')\n",
    "plt.legend(fontsize=20)\n",
    "plt.xlabel('Epoch', fontsize=15)\n",
    "plt.ylabel('ELBO', fontsize=15)\n",
    "plt.show()"
   ]
  },
  {
   "cell_type": "markdown",
   "metadata": {},
   "source": [
    "# Evaluate the model Small Batch"
   ]
  },
  {
   "cell_type": "code",
   "execution_count": 58,
   "metadata": {
    "collapsed": true
   },
   "outputs": [],
   "source": [
    "# Load the test images.\n",
    "X_test = mnist.test.images\n",
    "# TensorFlow method gives the label data in a one hot vetor format. We convert that into a single label.\n",
    "Y_test = np.argmax(mnist.test.labels,axis=1)"
   ]
  },
  {
   "cell_type": "code",
   "execution_count": 59,
   "metadata": {
    "collapsed": false
   },
   "outputs": [],
   "source": [
    "# Generate samples from the posterior and store them.\n",
    "n_samples = 10\n",
    "prob_lst = []\n",
    "samples = []\n",
    "w0_samples = []\n",
    "b0_samples = []\n",
    "w1_samples = []\n",
    "b1_samples = []\n",
    "for _ in range(n_samples):\n",
    "    w0_samp = qw0.sample()\n",
    "    b0_samp = qb0.sample()\n",
    "    w0_samples.append(w0_samp)\n",
    "    b0_samples.append(b0_samp)\n",
    "    \n",
    "    w1_samp = qw1.sample()\n",
    "    b1_samp = qb1.sample()\n",
    "    w1_samples.append(w1_samp)\n",
    "    b1_samples.append(b1_samp)\n",
    "    \n",
    "    # Also compue the probabiliy of each class for each (w,b) sample.\n",
    "    h=tf.matmul( X_test,w0_samp ) + b0_samp\n",
    "    prob = tf.nn.softmax(tf.matmul( h,w1_samp ) + b1_samp)\n",
    "    prob_lst.append(prob.eval())\n",
    "    sample = tf.concat([tf.reshape(w0_samp,[-1]),tf.reshape(w1_samp,[-1]),b0_samp,b1_samp],0)\n",
    "    samples.append(sample.eval())"
   ]
  },
  {
   "cell_type": "code",
   "execution_count": 60,
   "metadata": {
    "collapsed": false
   },
   "outputs": [
    {
     "name": "stdout",
     "output_type": "stream",
     "text": [
      "('accuracy in predicting the test data = ', 75.599999999999994)\n"
     ]
    }
   ],
   "source": [
    "# Here we compute the mean of probabilties for each class for all the (w,b) samples.\n",
    "# We then use the class with maximum of the mean proabilities as the prediction. \n",
    "# In other words, we have used (w,b) samples to construct a set of models and\n",
    "# used their combined outputs to make the predcitions.\n",
    "Y_pred = np.argmax(np.mean(prob_lst,axis=0),axis=1)\n",
    "print(\"accuracy in predicting the test data = \", (Y_pred == Y_test).mean()*100)"
   ]
  },
  {
   "cell_type": "code",
   "execution_count": 61,
   "metadata": {
    "collapsed": false
   },
   "outputs": [
    {
     "name": "stdout",
     "output_type": "stream",
     "text": [
      "('truth = ', 7)\n"
     ]
    },
    {
     "data": {
      "text/plain": [
       "<matplotlib.image.AxesImage at 0x1bc49e7d0>"
      ]
     },
     "execution_count": 61,
     "metadata": {},
     "output_type": "execute_result"
    },
    {
     "data": {
      "image/png": "[encoded data removed]",
      "text/plain": [
       "<matplotlib.figure.Figure at 0x1c33dca90>"
      ]
     },
     "metadata": {},
     "output_type": "display_data"
    }
   ],
   "source": [
    "# Load the first image from the test data and its label.\n",
    "test_image = X_test[0:1]\n",
    "test_label = Y_test[0]\n",
    "print('truth = ',test_label)\n",
    "pixels = test_image.reshape((28, 28))\n",
    "plt.imshow(pixels,cmap='Blues')"
   ]
  },
  {
   "cell_type": "code",
   "execution_count": 62,
   "metadata": {
    "collapsed": true
   },
   "outputs": [],
   "source": [
    "# Now the check what the model perdicts for each (w,b) sample from the posterior. This may take a few seconds...\n",
    "sing_img_probs = []\n",
    "for w0_samp,w1_samp,b0_samp,b1_samp in zip(w0_samples,w1_samples,b0_samples,b1_samples):\n",
    "    h=tf.matmul( X_test[0:1],w0_samp ) + b0_samp\n",
    "    prob = tf.nn.softmax(tf.matmul( h,w1_samp ) + b1_samp)\n",
    "    sing_img_probs.append(prob.eval())"
   ]
  },
  {
   "cell_type": "code",
   "execution_count": 63,
   "metadata": {
    "collapsed": false
   },
   "outputs": [
    {
     "data": {
      "text/plain": [
       "<matplotlib.text.Text at 0x1bc6a7e90>"
      ]
     },
     "execution_count": 63,
     "metadata": {},
     "output_type": "execute_result"
    },
    {
     "data": {
      "image/png": "[encoded data removed]",
      "text/plain": [
       "<matplotlib.figure.Figure at 0x1b1847a10>"
      ]
     },
     "metadata": {},
     "output_type": "display_data"
    }
   ],
   "source": [
    "# Create a histogram of these predictions.\n",
    "plt.hist(np.argmax(sing_img_probs,axis=2),bins=range(10))\n",
    "plt.xticks(np.arange(0,10))\n",
    "plt.xlim(0,10)\n",
    "plt.xlabel(\"Accuracy of the prediction of the test digit\")\n",
    "plt.ylabel(\"Frequency\")"
   ]
  },
  {
   "cell_type": "code",
   "execution_count": null,
   "metadata": {
    "collapsed": true
   },
   "outputs": [],
   "source": []
  }
 ],
 "metadata": {
  "kernelspec": {
   "display_name": "deeptech",
   "language": "python",
   "name": "deeptech"
  },
  "language_info": {
   "codemirror_mode": {
    "name": "ipython",
    "version": 2
   },
   "file_extension": ".py",
   "mimetype": "text/x-python",
   "name": "python",
   "nbconvert_exporter": "python",
   "pygments_lexer": "ipython2",
   "version": "2.7.10"
  }
 },
 "nbformat": 4,
 "nbformat_minor": 2
}

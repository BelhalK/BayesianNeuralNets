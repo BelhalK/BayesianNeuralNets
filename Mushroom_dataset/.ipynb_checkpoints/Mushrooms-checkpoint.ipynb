{
 "cells": [
  {
   "cell_type": "code",
   "execution_count": 1,
   "metadata": {
    "collapsed": false
   },
   "outputs": [],
   "source": [
    "import numpy as np # linear algebra\n",
    "import pandas as pd # data processing, CSV file I/O (e.g. pd.read_csv)\n",
    "import sys\n",
    "from tqdm import tqdm\n",
    "import tensorflow as tf\n",
    "import edward as ed\n",
    "from edward.models import Normal, Categorical\n",
    "from subprocess import check_output\n",
    "import matplotlib.pyplot as plt\n",
    "\n",
    "ed.set_seed(12)\n",
    "%matplotlib inline"
   ]
  },
  {
   "cell_type": "code",
   "execution_count": 2,
   "metadata": {
    "collapsed": false
   },
   "outputs": [
    {
     "data": {
      "text/html": [
       "<div>\n",
       "<style>\n",
       "    .dataframe thead tr:only-child th {\n",
       "        text-align: right;\n",
       "    }\n",
       "\n",
       "    .dataframe thead th {\n",
       "        text-align: left;\n",
       "    }\n",
       "\n",
       "    .dataframe tbody tr th {\n",
       "        vertical-align: top;\n",
       "    }\n",
       "</style>\n",
       "<table border=\"1\" class=\"dataframe\">\n",
       "  <thead>\n",
       "    <tr style=\"text-align: right;\">\n",
       "      <th></th>\n",
       "      <th>class</th>\n",
       "      <th>cap-shape</th>\n",
       "      <th>cap-surface</th>\n",
       "      <th>cap-color</th>\n",
       "      <th>bruises</th>\n",
       "      <th>odor</th>\n",
       "      <th>gill-attachment</th>\n",
       "      <th>gill-spacing</th>\n",
       "      <th>gill-size</th>\n",
       "      <th>gill-color</th>\n",
       "      <th>...</th>\n",
       "      <th>stalk-surface-below-ring</th>\n",
       "      <th>stalk-color-above-ring</th>\n",
       "      <th>stalk-color-below-ring</th>\n",
       "      <th>veil-type</th>\n",
       "      <th>veil-color</th>\n",
       "      <th>ring-number</th>\n",
       "      <th>ring-type</th>\n",
       "      <th>spore-print-color</th>\n",
       "      <th>population</th>\n",
       "      <th>habitat</th>\n",
       "    </tr>\n",
       "  </thead>\n",
       "  <tbody>\n",
       "    <tr>\n",
       "      <th>0</th>\n",
       "      <td>p</td>\n",
       "      <td>x</td>\n",
       "      <td>s</td>\n",
       "      <td>n</td>\n",
       "      <td>t</td>\n",
       "      <td>p</td>\n",
       "      <td>f</td>\n",
       "      <td>c</td>\n",
       "      <td>n</td>\n",
       "      <td>k</td>\n",
       "      <td>...</td>\n",
       "      <td>s</td>\n",
       "      <td>w</td>\n",
       "      <td>w</td>\n",
       "      <td>p</td>\n",
       "      <td>w</td>\n",
       "      <td>o</td>\n",
       "      <td>p</td>\n",
       "      <td>k</td>\n",
       "      <td>s</td>\n",
       "      <td>u</td>\n",
       "    </tr>\n",
       "    <tr>\n",
       "      <th>1</th>\n",
       "      <td>e</td>\n",
       "      <td>x</td>\n",
       "      <td>s</td>\n",
       "      <td>y</td>\n",
       "      <td>t</td>\n",
       "      <td>a</td>\n",
       "      <td>f</td>\n",
       "      <td>c</td>\n",
       "      <td>b</td>\n",
       "      <td>k</td>\n",
       "      <td>...</td>\n",
       "      <td>s</td>\n",
       "      <td>w</td>\n",
       "      <td>w</td>\n",
       "      <td>p</td>\n",
       "      <td>w</td>\n",
       "      <td>o</td>\n",
       "      <td>p</td>\n",
       "      <td>n</td>\n",
       "      <td>n</td>\n",
       "      <td>g</td>\n",
       "    </tr>\n",
       "    <tr>\n",
       "      <th>2</th>\n",
       "      <td>e</td>\n",
       "      <td>b</td>\n",
       "      <td>s</td>\n",
       "      <td>w</td>\n",
       "      <td>t</td>\n",
       "      <td>l</td>\n",
       "      <td>f</td>\n",
       "      <td>c</td>\n",
       "      <td>b</td>\n",
       "      <td>n</td>\n",
       "      <td>...</td>\n",
       "      <td>s</td>\n",
       "      <td>w</td>\n",
       "      <td>w</td>\n",
       "      <td>p</td>\n",
       "      <td>w</td>\n",
       "      <td>o</td>\n",
       "      <td>p</td>\n",
       "      <td>n</td>\n",
       "      <td>n</td>\n",
       "      <td>m</td>\n",
       "    </tr>\n",
       "    <tr>\n",
       "      <th>3</th>\n",
       "      <td>p</td>\n",
       "      <td>x</td>\n",
       "      <td>y</td>\n",
       "      <td>w</td>\n",
       "      <td>t</td>\n",
       "      <td>p</td>\n",
       "      <td>f</td>\n",
       "      <td>c</td>\n",
       "      <td>n</td>\n",
       "      <td>n</td>\n",
       "      <td>...</td>\n",
       "      <td>s</td>\n",
       "      <td>w</td>\n",
       "      <td>w</td>\n",
       "      <td>p</td>\n",
       "      <td>w</td>\n",
       "      <td>o</td>\n",
       "      <td>p</td>\n",
       "      <td>k</td>\n",
       "      <td>s</td>\n",
       "      <td>u</td>\n",
       "    </tr>\n",
       "    <tr>\n",
       "      <th>4</th>\n",
       "      <td>e</td>\n",
       "      <td>x</td>\n",
       "      <td>s</td>\n",
       "      <td>g</td>\n",
       "      <td>f</td>\n",
       "      <td>n</td>\n",
       "      <td>f</td>\n",
       "      <td>w</td>\n",
       "      <td>b</td>\n",
       "      <td>k</td>\n",
       "      <td>...</td>\n",
       "      <td>s</td>\n",
       "      <td>w</td>\n",
       "      <td>w</td>\n",
       "      <td>p</td>\n",
       "      <td>w</td>\n",
       "      <td>o</td>\n",
       "      <td>e</td>\n",
       "      <td>n</td>\n",
       "      <td>a</td>\n",
       "      <td>g</td>\n",
       "    </tr>\n",
       "  </tbody>\n",
       "</table>\n",
       "<p>5 rows × 23 columns</p>\n",
       "</div>"
      ],
      "text/plain": [
       "  class cap-shape cap-surface cap-color bruises odor gill-attachment  \\\n",
       "0     p         x           s         n       t    p               f   \n",
       "1     e         x           s         y       t    a               f   \n",
       "2     e         b           s         w       t    l               f   \n",
       "3     p         x           y         w       t    p               f   \n",
       "4     e         x           s         g       f    n               f   \n",
       "\n",
       "  gill-spacing gill-size gill-color   ...   stalk-surface-below-ring  \\\n",
       "0            c         n          k   ...                          s   \n",
       "1            c         b          k   ...                          s   \n",
       "2            c         b          n   ...                          s   \n",
       "3            c         n          n   ...                          s   \n",
       "4            w         b          k   ...                          s   \n",
       "\n",
       "  stalk-color-above-ring stalk-color-below-ring veil-type veil-color  \\\n",
       "0                      w                      w         p          w   \n",
       "1                      w                      w         p          w   \n",
       "2                      w                      w         p          w   \n",
       "3                      w                      w         p          w   \n",
       "4                      w                      w         p          w   \n",
       "\n",
       "  ring-number ring-type spore-print-color population habitat  \n",
       "0           o         p                 k          s       u  \n",
       "1           o         p                 n          n       g  \n",
       "2           o         p                 n          n       m  \n",
       "3           o         p                 k          s       u  \n",
       "4           o         e                 n          a       g  \n",
       "\n",
       "[5 rows x 23 columns]"
      ]
     },
     "execution_count": 2,
     "metadata": {},
     "output_type": "execute_result"
    }
   ],
   "source": [
    "data = pd.read_csv('mushrooms.csv')\n",
    "data.head()"
   ]
  },
  {
   "cell_type": "code",
   "execution_count": 3,
   "metadata": {
    "collapsed": false
   },
   "outputs": [
    {
     "data": {
      "text/plain": [
       "(8124, 23)"
      ]
     },
     "execution_count": 3,
     "metadata": {},
     "output_type": "execute_result"
    }
   ],
   "source": [
    "data.shape"
   ]
  },
  {
   "cell_type": "code",
   "execution_count": 4,
   "metadata": {
    "collapsed": false
   },
   "outputs": [
    {
     "data": {
      "text/plain": [
       "(8124, 119)"
      ]
     },
     "execution_count": 4,
     "metadata": {},
     "output_type": "execute_result"
    }
   ],
   "source": [
    "data2 = pd.get_dummies(data)\n",
    "data2.shape"
   ]
  },
  {
   "cell_type": "code",
   "execution_count": 5,
   "metadata": {
    "collapsed": true
   },
   "outputs": [],
   "source": [
    "data_x = data2.loc[:, 'cap-shape_b':].as_matrix().astype(np.float32)\n",
    "data_y = data2.loc[:, :'class_p'].as_matrix().astype(np.float32)\n",
    "\n",
    "N = 8000\n",
    "train_x, test_x = data_x[:N], data_x[N:]\n",
    "train_y, test_y = data_y[:N], data_y[N:]\n",
    "\n",
    "in_size = train_x.shape[1]\n",
    "out_size = train_y.shape[1]\n",
    "\n",
    "\n",
    "# for bayesian neural network\n",
    "train_y2 = np.argmax(train_y, axis=1)\n",
    "test_y2 = np.argmax(test_y, axis=1)"
   ]
  },
  {
   "cell_type": "code",
   "execution_count": 6,
   "metadata": {
    "collapsed": true
   },
   "outputs": [],
   "source": [
    "EPOCH_NUM = 20\n",
    "BATCH_SIZE = 1000"
   ]
  },
  {
   "cell_type": "code",
   "execution_count": 7,
   "metadata": {
    "collapsed": false
   },
   "outputs": [],
   "source": [
    "#build a bnn\n",
    "x_ = tf.placeholder(tf.float32, shape=(None, in_size))\n",
    "y_ = tf.placeholder(tf.int32, shape=(BATCH_SIZE))"
   ]
  },
  {
   "cell_type": "code",
   "execution_count": 8,
   "metadata": {
    "collapsed": true
   },
   "outputs": [],
   "source": [
    "w = Normal(loc=tf.zeros([in_size, out_size]), scale=tf.ones([in_size, out_size]))\n",
    "b = Normal(loc=tf.zeros([out_size]), scale=tf.ones([out_size]))\n",
    "y_pre = Categorical(tf.matmul(x_, w) + b)"
   ]
  },
  {
   "cell_type": "code",
   "execution_count": 9,
   "metadata": {
    "collapsed": true
   },
   "outputs": [],
   "source": [
    "#posterior approximation\n",
    "qw = Normal(loc=tf.Variable(tf.random_normal([in_size, out_size])), scale=tf.Variable(tf.random_normal([in_size, out_size])))\n",
    "qb = Normal(loc=tf.Variable(tf.random_normal([out_size])), scale=tf.Variable(tf.random_normal([out_size])))\n",
    "\n",
    "y = Categorical(tf.matmul(x_, qw) + qb)"
   ]
  },
  {
   "cell_type": "code",
   "execution_count": 10,
   "metadata": {
    "collapsed": true
   },
   "outputs": [],
   "source": [
    "inference = ed.KLqp({w: qw, b: qb}, data={y_pre: y_})\n",
    "inference.initialize()"
   ]
  },
  {
   "cell_type": "code",
   "execution_count": 11,
   "metadata": {
    "collapsed": false
   },
   "outputs": [],
   "source": [
    "sess = tf.Session()\n",
    "sess.run(tf.global_variables_initializer())"
   ]
  },
  {
   "cell_type": "code",
   "execution_count": 12,
   "metadata": {
    "collapsed": true
   },
   "outputs": [],
   "source": [
    "train_loss = np.zeros(EPOCH_NUM)"
   ]
  },
  {
   "cell_type": "code",
   "execution_count": 13,
   "metadata": {
    "collapsed": false
   },
   "outputs": [
    {
     "name": "stdout",
     "output_type": "stream",
     "text": [
      "epoch:\t10\taccuracy:\t0.98375\tvaridation accuracy:\t1.0\n",
      "epoch:\t20\taccuracy:\t0.9335\tvaridation accuracy:\t0.967741935484\n",
      "100%|██████████| 20/20 [00:05<00:00,  3.56it/s]\n"
     ]
    }
   ],
   "source": [
    "with sess:\n",
    "    samples_num = 100\n",
    "    for epoch in tqdm(range(EPOCH_NUM), file=sys.stdout):\n",
    "        perm = np.random.permutation(N)\n",
    "        for i in range(0, N, BATCH_SIZE):\n",
    "            batch_x = train_x[perm[i:i+BATCH_SIZE]]\n",
    "            batch_y = train_y2[perm[i:i+BATCH_SIZE]]\n",
    "            info_dict = inference.update(feed_dict={x_: batch_x, y_: batch_y})\n",
    "        train_loss[epoch] = info_dict['loss']\n",
    "        y_samples = y.sample(samples_num).eval(feed_dict={x_: train_x})\n",
    "        acc = (np.round(y_samples.sum(axis=0) / samples_num) == train_y2).mean()\n",
    "        y_samples = y.sample(samples_num).eval(feed_dict={x_: test_x})\n",
    "        test_acc = (np.round(y_samples.sum(axis=0) / samples_num) == test_y2).mean()\n",
    "        if (epoch+1) % 10 == 0:\n",
    "            tqdm.write('epoch:\\t{}\\taccuracy:\\t{}\\tvaridation accuracy:\\t{}'.format(epoch+1, acc, test_acc))\n",
    "sess.close()"
   ]
  },
  {
   "cell_type": "code",
   "execution_count": 14,
   "metadata": {
    "collapsed": false
   },
   "outputs": [
    {
     "data": {
      "image/png": "[encoded data removed]",
      "text/plain": [
       "<matplotlib.figure.Figure at 0x11635b4d0>"
      ]
     },
     "metadata": {},
     "output_type": "display_data"
    }
   ],
   "source": [
    "fig, axes = plt.subplots(nrows=1, ncols=1, figsize=(16, 3.5))\n",
    "plt.plot(np.arange(EPOCH_NUM), train_loss / len(train_x), label='Train')\n",
    "plt.legend(fontsize=20)\n",
    "plt.xlabel('Epoch', fontsize=15)\n",
    "plt.ylabel('KL', fontsize=15)\n",
    "plt.show()"
   ]
  },
  {
   "cell_type": "markdown",
   "metadata": {},
   "source": [
    "# Using AdamOptimizer"
   ]
  },
  {
   "cell_type": "code",
   "execution_count": 36,
   "metadata": {
    "collapsed": true
   },
   "outputs": [],
   "source": [
    "inference = ed.KLqp({w: qw, b: qb}, data={y_pre: y_})\n",
    "optimizer = tf.train.AdamOptimizer(5e-3)\n",
    "inference.initialize(optimizer=optimizer, var_list=tf.trainable_variables())"
   ]
  },
  {
   "cell_type": "code",
   "execution_count": 37,
   "metadata": {
    "collapsed": true
   },
   "outputs": [],
   "source": [
    "sess = tf.Session()\n",
    "sess.run(tf.global_variables_initializer())"
   ]
  },
  {
   "cell_type": "code",
   "execution_count": 38,
   "metadata": {
    "collapsed": true
   },
   "outputs": [],
   "source": [
    "train_loss2 = np.zeros(EPOCH_NUM)"
   ]
  },
  {
   "cell_type": "code",
   "execution_count": 39,
   "metadata": {
    "collapsed": false
   },
   "outputs": [
    {
     "name": "stdout",
     "output_type": "stream",
     "text": [
      "epoch:\t1\taccuracy:\t0.542\tvaridation accuracy:\t0.560498220641\n",
      "epoch:\t2\taccuracy:\t0.682428571429\tvaridation accuracy:\t0.451067615658\n",
      "epoch:\t3\taccuracy:\t0.649\tvaridation accuracy:\t0.424377224199\n",
      "epoch:\t4\taccuracy:\t0.820285714286\tvaridation accuracy:\t0.42615658363\n",
      "epoch:\t5\taccuracy:\t0.720428571429\tvaridation accuracy:\t0.879893238434\n",
      "epoch:\t6\taccuracy:\t0.643857142857\tvaridation accuracy:\t0.457295373665\n",
      "epoch:\t7\taccuracy:\t0.612142857143\tvaridation accuracy:\t0.846975088968\n",
      "epoch:\t8\taccuracy:\t0.685571428571\tvaridation accuracy:\t0.698398576512\n",
      "epoch:\t9\taccuracy:\t0.833428571429\tvaridation accuracy:\t0.612099644128\n",
      "epoch:\t10\taccuracy:\t0.795142857143\tvaridation accuracy:\t0.863879003559\n",
      "epoch:\t11\taccuracy:\t0.852571428571\tvaridation accuracy:\t0.517793594306\n",
      "epoch:\t12\taccuracy:\t0.532142857143\tvaridation accuracy:\t0.664590747331\n",
      "epoch:\t13\taccuracy:\t0.721142857143\tvaridation accuracy:\t0.887010676157\n",
      "epoch:\t14\taccuracy:\t0.609571428571\tvaridation accuracy:\t0.687722419929\n",
      "epoch:\t15\taccuracy:\t0.564285714286\tvaridation accuracy:\t0.727758007117\n",
      "epoch:\t16\taccuracy:\t0.816571428571\tvaridation accuracy:\t0.672597864769\n",
      "epoch:\t17\taccuracy:\t0.793142857143\tvaridation accuracy:\t0.524911032028\n",
      "epoch:\t18\taccuracy:\t0.850142857143\tvaridation accuracy:\t0.769572953737\n",
      "epoch:\t19\taccuracy:\t0.598\tvaridation accuracy:\t0.991103202847\n",
      "epoch:\t20\taccuracy:\t0.782571428571\tvaridation accuracy:\t0.685053380783\n",
      "100%|██████████| 20/20 [00:18<00:00,  1.03it/s]\n"
     ]
    }
   ],
   "source": [
    "with sess:\n",
    "    samples_num = 100\n",
    "    for epoch in tqdm(range(EPOCH_NUM), file=sys.stdout):\n",
    "        perm = np.random.permutation(N)\n",
    "        for i in range(0, N, BATCH_SIZE):\n",
    "            batch_x = train_x[perm[i:i+BATCH_SIZE]]\n",
    "            batch_y = train_y2[perm[i:i+BATCH_SIZE]]\n",
    "            info_dict = inference.update(feed_dict={x_: batch_x, y_: batch_y})\n",
    "        train_loss2[epoch] = info_dict['loss']\n",
    "        y_samples = y.sample(samples_num).eval(feed_dict={x_: train_x})\n",
    "        acc = (np.round(y_samples.sum(axis=0) / samples_num) == train_y2).mean()\n",
    "        y_samples = y.sample(samples_num).eval(feed_dict={x_: test_x})\n",
    "        test_acc = (np.round(y_samples.sum(axis=0) / samples_num) == test_y2).mean()\n",
    "        if (epoch+1) % 10 == 0:\n",
    "            tqdm.write('epoch:\\t{}\\taccuracy:\\t{}\\tvaridation accuracy:\\t{}'.format(epoch+1, acc, test_acc))\n",
    "sess.close()"
   ]
  },
  {
   "cell_type": "code",
   "execution_count": 40,
   "metadata": {
    "collapsed": false
   },
   "outputs": [
    {
     "data": {
      "image/png": "[encoded data removed]",
      "text/plain": [
       "<matplotlib.figure.Figure at 0x125794c90>"
      ]
     },
     "metadata": {},
     "output_type": "display_data"
    }
   ],
   "source": [
    "fig, axes = plt.subplots(nrows=1, ncols=1, figsize=(16, 3.5))\n",
    "plt.plot(np.arange(EPOCH_NUM), train_loss / len(train_x), label='Train SGD')\n",
    "plt.plot(np.arange(EPOCH_NUM), train_loss2 / len(train_x), label='Train ADAM')\n",
    "plt.legend(fontsize=20)\n",
    "plt.xlabel('Epoch', fontsize=15)\n",
    "plt.ylabel('KL', fontsize=15)\n",
    "plt.show()"
   ]
  },
  {
   "cell_type": "markdown",
   "metadata": {},
   "source": [
    "# Compare Mini Batch Size (using Edward own optimizer)"
   ]
  },
  {
   "cell_type": "code",
   "execution_count": 15,
   "metadata": {
    "collapsed": true
   },
   "outputs": [],
   "source": [
    "EPOCH_NUM = 40\n",
    "#batch sizes\n",
    "small_batch = N/4\n",
    "mid_batch = N/2\n",
    "big_batch = N\n",
    "#initialize losses\n",
    "train_losssb = np.zeros(EPOCH_NUM)\n",
    "train_lossmb = np.zeros(EPOCH_NUM)\n",
    "train_lossbb = np.zeros(EPOCH_NUM)"
   ]
  },
  {
   "cell_type": "markdown",
   "metadata": {
    "collapsed": false
   },
   "source": [
    "with sess:\n",
    "    batch_x = train_x[0:BATCH_SIZE]\n",
    "    batch_y = train_y2[0:BATCH_SIZE]\n",
    "    info_dict = inference.update(feed_dict={x_: batch_x, y_: batch_y})\n",
    "    train_losssb[0] = info_dict['loss']\n",
    "    train_lossmb[0] = info_dict['loss']\n",
    "    train_lossbb[0] = info_dict['loss']"
   ]
  },
  {
   "cell_type": "code",
   "execution_count": 16,
   "metadata": {
    "collapsed": true
   },
   "outputs": [],
   "source": [
    "BATCH_SIZE = small_batch\n",
    "#build a bnn\n",
    "x_ = tf.placeholder(tf.float32, shape=(None, in_size))\n",
    "y_ = tf.placeholder(tf.int32, shape=(BATCH_SIZE))\n",
    "w = Normal(loc=tf.zeros([in_size, out_size]), scale=tf.ones([in_size, out_size]))\n",
    "b = Normal(loc=tf.zeros([out_size]), scale=tf.ones([out_size]))\n",
    "y_pre = Categorical(tf.matmul(x_, w) + b)\n",
    "qw = Normal(loc=tf.Variable(tf.random_normal([in_size, out_size])), scale=tf.Variable(tf.random_normal([in_size, out_size])))\n",
    "qb = Normal(loc=tf.Variable(tf.random_normal([out_size])), scale=tf.Variable(tf.random_normal([out_size])))\n",
    "\n",
    "y = Categorical(tf.matmul(x_, qw) + qb)\n",
    "inference = ed.KLqp({w: qw, b: qb}, data={y_pre: y_})\n",
    "inference.initialize()\n",
    "sess = tf.Session()\n",
    "sess.run(tf.global_variables_initializer())"
   ]
  },
  {
   "cell_type": "code",
   "execution_count": 17,
   "metadata": {
    "collapsed": false
   },
   "outputs": [
    {
     "name": "stdout",
     "output_type": "stream",
     "text": [
      "epoch:\t10\taccuracy:\t0.922625\tvaridation accuracy:\t0.959677419355\n",
      "epoch:\t20\taccuracy:\t0.98525\tvaridation accuracy:\t0.983870967742\n",
      "epoch:\t30\taccuracy:\t0.977625\tvaridation accuracy:\t0.983870967742\n",
      "epoch:\t40\taccuracy:\t0.973625\tvaridation accuracy:\t1.0\n",
      "100%|██████████| 40/40 [00:18<00:00,  1.83it/s]\n"
     ]
    }
   ],
   "source": [
    "with sess:\n",
    "    samples_num = 100\n",
    "    for epoch in tqdm(range(EPOCH_NUM), file=sys.stdout):\n",
    "        perm = np.random.permutation(N)\n",
    "        for i in range(0, N, BATCH_SIZE):\n",
    "            batch_x = train_x[perm[i:i+BATCH_SIZE]]\n",
    "            batch_y = train_y2[perm[i:i+BATCH_SIZE]]\n",
    "            info_dict = inference.update(feed_dict={x_: batch_x, y_: batch_y})\n",
    "        train_losssb[epoch] = info_dict['loss']\n",
    "        y_samples = y.sample(samples_num).eval(feed_dict={x_: train_x})\n",
    "        acc = (np.round(y_samples.sum(axis=0) / samples_num) == train_y2).mean()\n",
    "        y_samples = y.sample(samples_num).eval(feed_dict={x_: test_x})\n",
    "        test_acc = (np.round(y_samples.sum(axis=0) / samples_num) == test_y2).mean()\n",
    "        if (epoch+1) % 10 == 0:\n",
    "            tqdm.write('epoch:\\t{}\\taccuracy:\\t{}\\tvaridation accuracy:\\t{}'.format(epoch+1, acc, test_acc))\n",
    "sess.close()"
   ]
  },
  {
   "cell_type": "code",
   "execution_count": 18,
   "metadata": {
    "collapsed": true
   },
   "outputs": [],
   "source": [
    "BATCH_SIZE = mid_batch\n",
    "#build a bnn\n",
    "x_ = tf.placeholder(tf.float32, shape=(None, in_size))\n",
    "y_ = tf.placeholder(tf.int32, shape=(BATCH_SIZE))\n",
    "w = Normal(loc=tf.zeros([in_size, out_size]), scale=tf.ones([in_size, out_size]))\n",
    "b = Normal(loc=tf.zeros([out_size]), scale=tf.ones([out_size]))\n",
    "y_pre = Categorical(tf.matmul(x_, w) + b)\n",
    "qw = Normal(loc=tf.Variable(tf.random_normal([in_size, out_size])), scale=tf.Variable(tf.random_normal([in_size, out_size])))\n",
    "qb = Normal(loc=tf.Variable(tf.random_normal([out_size])), scale=tf.Variable(tf.random_normal([out_size])))\n",
    "\n",
    "y = Categorical(tf.matmul(x_, qw) + qb)\n",
    "inference = ed.KLqp({w: qw, b: qb}, data={y_pre: y_})\n",
    "inference.initialize()\n",
    "sess = tf.Session()\n",
    "sess.run(tf.global_variables_initializer())"
   ]
  },
  {
   "cell_type": "code",
   "execution_count": 19,
   "metadata": {
    "collapsed": false
   },
   "outputs": [
    {
     "name": "stdout",
     "output_type": "stream",
     "text": [
      "epoch:\t10\taccuracy:\t0.9425\tvaridation accuracy:\t0.887096774194\n",
      "epoch:\t20\taccuracy:\t0.898\tvaridation accuracy:\t1.0\n",
      "epoch:\t30\taccuracy:\t0.98225\tvaridation accuracy:\t0.983870967742\n",
      "epoch:\t40\taccuracy:\t0.9875\tvaridation accuracy:\t1.0\n",
      "100%|██████████| 40/40 [00:29<00:00,  1.22it/s]\n"
     ]
    }
   ],
   "source": [
    "with sess:\n",
    "    samples_num = 100\n",
    "    for epoch in tqdm(range(EPOCH_NUM), file=sys.stdout):\n",
    "        perm = np.random.permutation(N)\n",
    "        for i in range(0, N, BATCH_SIZE):\n",
    "            batch_x = train_x[perm[i:i+BATCH_SIZE]]\n",
    "            batch_y = train_y2[perm[i:i+BATCH_SIZE]]\n",
    "            info_dict = inference.update(feed_dict={x_: batch_x, y_: batch_y})\n",
    "        train_lossmb[epoch] = info_dict['loss']\n",
    "        y_samples = y.sample(samples_num).eval(feed_dict={x_: train_x})\n",
    "        acc = (np.round(y_samples.sum(axis=0) / samples_num) == train_y2).mean()\n",
    "        y_samples = y.sample(samples_num).eval(feed_dict={x_: test_x})\n",
    "        test_acc = (np.round(y_samples.sum(axis=0) / samples_num) == test_y2).mean()\n",
    "        if (epoch+1) % 10 == 0:\n",
    "            tqdm.write('epoch:\\t{}\\taccuracy:\\t{}\\tvaridation accuracy:\\t{}'.format(epoch+1, acc, test_acc))\n",
    "sess.close()"
   ]
  },
  {
   "cell_type": "code",
   "execution_count": 20,
   "metadata": {
    "collapsed": true
   },
   "outputs": [],
   "source": [
    "BATCH_SIZE = big_batch\n",
    "#build a bnn\n",
    "x_ = tf.placeholder(tf.float32, shape=(None, in_size))\n",
    "y_ = tf.placeholder(tf.int32, shape=(BATCH_SIZE))\n",
    "w = Normal(loc=tf.zeros([in_size, out_size]), scale=tf.ones([in_size, out_size]))\n",
    "b = Normal(loc=tf.zeros([out_size]), scale=tf.ones([out_size]))\n",
    "y_pre = Categorical(tf.matmul(x_, w) + b)\n",
    "qw = Normal(loc=tf.Variable(tf.random_normal([in_size, out_size])), scale=tf.Variable(tf.random_normal([in_size, out_size])))\n",
    "qb = Normal(loc=tf.Variable(tf.random_normal([out_size])), scale=tf.Variable(tf.random_normal([out_size])))\n",
    "\n",
    "y = Categorical(tf.matmul(x_, qw) + qb)\n",
    "inference = ed.KLqp({w: qw, b: qb}, data={y_pre: y_})\n",
    "inference.initialize()\n",
    "sess = tf.Session()\n",
    "sess.run(tf.global_variables_initializer())"
   ]
  },
  {
   "cell_type": "code",
   "execution_count": 21,
   "metadata": {
    "collapsed": false
   },
   "outputs": [
    {
     "name": "stdout",
     "output_type": "stream",
     "text": [
      "epoch:\t10\taccuracy:\t0.525625\tvaridation accuracy:\t0.814516129032\n",
      "epoch:\t20\taccuracy:\t0.899125\tvaridation accuracy:\t0.991935483871\n",
      "epoch:\t30\taccuracy:\t0.961625\tvaridation accuracy:\t0.991935483871\n",
      "epoch:\t40\taccuracy:\t0.951\tvaridation accuracy:\t1.0\n",
      "100%|██████████| 40/40 [00:40<00:00,  1.11s/it]\n"
     ]
    }
   ],
   "source": [
    "with sess:\n",
    "    samples_num = 100\n",
    "    for epoch in tqdm(range(EPOCH_NUM), file=sys.stdout):\n",
    "        perm = np.random.permutation(N)\n",
    "        for i in range(0, N, BATCH_SIZE):\n",
    "            batch_x = train_x[perm[i:i+BATCH_SIZE]]\n",
    "            batch_y = train_y2[perm[i:i+BATCH_SIZE]]\n",
    "            info_dict = inference.update(feed_dict={x_: batch_x, y_: batch_y})\n",
    "        train_lossbb[epoch] = info_dict['loss']\n",
    "        y_samples = y.sample(samples_num).eval(feed_dict={x_: train_x})\n",
    "        acc = (np.round(y_samples.sum(axis=0) / samples_num) == train_y2).mean()\n",
    "        y_samples = y.sample(samples_num).eval(feed_dict={x_: test_x})\n",
    "        test_acc = (np.round(y_samples.sum(axis=0) / samples_num) == test_y2).mean()\n",
    "        if (epoch+1) % 10 == 0:\n",
    "            tqdm.write('epoch:\\t{}\\taccuracy:\\t{}\\tvaridation accuracy:\\t{}'.format(epoch+1, acc, test_acc))\n",
    "sess.close()"
   ]
  },
  {
   "cell_type": "code",
   "execution_count": 22,
   "metadata": {
    "collapsed": false
   },
   "outputs": [
    {
     "data": {
      "image/png": "[encoded data removed]",
      "text/plain": [
       "<matplotlib.figure.Figure at 0x117e6c490>"
      ]
     },
     "metadata": {},
     "output_type": "display_data"
    }
   ],
   "source": [
    "fig, axes = plt.subplots(nrows=1, ncols=1, figsize=(16, 3.5))\n",
    "plt.plot(np.arange(EPOCH_NUM), train_losssb / len(train_x), label='Small batch')\n",
    "plt.plot(np.arange(EPOCH_NUM), train_lossmb / len(train_x), label='Mid batch')\n",
    "plt.plot(np.arange(EPOCH_NUM), train_lossbb / len(train_x), label='Big batch')\n",
    "plt.legend(fontsize=20)\n",
    "plt.xlabel('Epoch', fontsize=15)\n",
    "plt.ylabel('-ELBO', fontsize=15)\n",
    "plt.show()"
   ]
  },
  {
   "cell_type": "markdown",
   "metadata": {},
   "source": [
    "# Using GradientDescentOptimizer"
   ]
  },
  {
   "cell_type": "code",
   "execution_count": 32,
   "metadata": {
    "collapsed": true
   },
   "outputs": [],
   "source": [
    "EPOCH_NUM = 40\n",
    "#batch sizes\n",
    "small_batch = N/10\n",
    "mid_batch = N/7\n",
    "big_batch = N/5\n",
    "#initialize losses\n",
    "train_losssb_sag = np.zeros(EPOCH_NUM)\n",
    "train_lossmb_sag = np.zeros(EPOCH_NUM)\n",
    "train_lossbb_sag = np.zeros(EPOCH_NUM)"
   ]
  },
  {
   "cell_type": "markdown",
   "metadata": {
    "collapsed": false
   },
   "source": [
    "with sess:\n",
    "    batch_x = train_x[0:BATCH_SIZE]\n",
    "    batch_y = train_y2[0:BATCH_SIZE]\n",
    "    info_dict = inference.update(feed_dict={x_: batch_x, y_: batch_y})\n",
    "    train_losssb[0] = info_dict['loss']\n",
    "    train_lossmb[0] = info_dict['loss']\n",
    "    train_lossbb[0] = info_dict['loss']"
   ]
  },
  {
   "cell_type": "code",
   "execution_count": 33,
   "metadata": {
    "collapsed": true
   },
   "outputs": [],
   "source": [
    "BATCH_SIZE = small_batch\n",
    "#build a bnn\n",
    "x_ = tf.placeholder(tf.float32, shape=(None, in_size))\n",
    "y_ = tf.placeholder(tf.int32, shape=(BATCH_SIZE))\n",
    "w = Normal(loc=tf.zeros([in_size, out_size]), scale=tf.ones([in_size, out_size]))\n",
    "b = Normal(loc=tf.zeros([out_size]), scale=tf.ones([out_size]))\n",
    "y_pre = Categorical(tf.matmul(x_, w) + b)\n",
    "qw = Normal(loc=tf.Variable(tf.random_normal([in_size, out_size])), scale=tf.Variable(tf.random_normal([in_size, out_size])))\n",
    "qb = Normal(loc=tf.Variable(tf.random_normal([out_size])), scale=tf.Variable(tf.random_normal([out_size])))\n",
    "\n",
    "y = Categorical(tf.matmul(x_, qw) + qb)\n",
    "inference = ed.KLqp({w: qw, b: qb}, data={y_pre: y_})\n",
    "optimizer = tf.train.GradientDescentOptimizer(5e-3)\n",
    "inference.initialize(optimizer=optimizer, var_list=tf.trainable_variables())\n",
    "sess = tf.Session()\n",
    "sess.run(tf.global_variables_initializer())"
   ]
  },
  {
   "cell_type": "code",
   "execution_count": 34,
   "metadata": {
    "collapsed": false
   },
   "outputs": [
    {
     "name": "stdout",
     "output_type": "stream",
     "text": [
      "epoch:\t10\taccuracy:\t0.916285714286\tvaridation accuracy:\t0.875444839858\n",
      "epoch:\t20\taccuracy:\t0.991428571429\tvaridation accuracy:\t0.879893238434\n",
      "epoch:\t30\taccuracy:\t0.913\tvaridation accuracy:\t0.973309608541\n",
      "epoch:\t40\taccuracy:\t0.974142857143\tvaridation accuracy:\t0.902135231317\n",
      "100%|██████████| 40/40 [00:56<00:00,  1.43s/it]\n"
     ]
    }
   ],
   "source": [
    "with sess:\n",
    "    samples_num = 100\n",
    "    for epoch in tqdm(range(EPOCH_NUM), file=sys.stdout):\n",
    "        perm = np.random.permutation(N)\n",
    "        for i in range(0, N, BATCH_SIZE):\n",
    "            batch_x = train_x[perm[i:i+BATCH_SIZE]]\n",
    "            batch_y = train_y2[perm[i:i+BATCH_SIZE]]\n",
    "            info_dict = inference.update(feed_dict={x_: batch_x, y_: batch_y})\n",
    "        train_losssb_sag[epoch] = info_dict['loss']\n",
    "        y_samples = y.sample(samples_num).eval(feed_dict={x_: train_x})\n",
    "        acc = (np.round(y_samples.sum(axis=0) / samples_num) == train_y2).mean()\n",
    "        y_samples = y.sample(samples_num).eval(feed_dict={x_: test_x})\n",
    "        test_acc = (np.round(y_samples.sum(axis=0) / samples_num) == test_y2).mean()\n",
    "        if (epoch+1) % 10 == 0:\n",
    "            tqdm.write('epoch:\\t{}\\taccuracy:\\t{}\\tvaridation accuracy:\\t{}'.format(epoch+1, acc, test_acc))\n",
    "sess.close()"
   ]
  },
  {
   "cell_type": "code",
   "execution_count": 35,
   "metadata": {
    "collapsed": true
   },
   "outputs": [],
   "source": [
    "BATCH_SIZE = mid_batch\n",
    "#build a bnn\n",
    "x_ = tf.placeholder(tf.float32, shape=(None, in_size))\n",
    "y_ = tf.placeholder(tf.int32, shape=(BATCH_SIZE))\n",
    "w = Normal(loc=tf.zeros([in_size, out_size]), scale=tf.ones([in_size, out_size]))\n",
    "b = Normal(loc=tf.zeros([out_size]), scale=tf.ones([out_size]))\n",
    "y_pre = Categorical(tf.matmul(x_, w) + b)\n",
    "qw = Normal(loc=tf.Variable(tf.random_normal([in_size, out_size])), scale=tf.Variable(tf.random_normal([in_size, out_size])))\n",
    "qb = Normal(loc=tf.Variable(tf.random_normal([out_size])), scale=tf.Variable(tf.random_normal([out_size])))\n",
    "\n",
    "y = Categorical(tf.matmul(x_, qw) + qb)\n",
    "inference = ed.KLqp({w: qw, b: qb}, data={y_pre: y_})\n",
    "inference.initialize()\n",
    "sess = tf.Session()\n",
    "sess.run(tf.global_variables_initializer())"
   ]
  },
  {
   "cell_type": "code",
   "execution_count": 36,
   "metadata": {
    "collapsed": false
   },
   "outputs": [
    {
     "name": "stdout",
     "output_type": "stream",
     "text": [
      "epoch:\t10\taccuracy:\t0.982428571429\tvaridation accuracy:\t0.960854092527\n",
      "epoch:\t20\taccuracy:\t0.875571428571\tvaridation accuracy:\t0.870106761566\n",
      "epoch:\t30\taccuracy:\t0.996714285714\tvaridation accuracy:\t0.962633451957\n",
      "epoch:\t40\taccuracy:\t0.897285714286\tvaridation accuracy:\t0.968861209964\n",
      "100%|██████████| 40/40 [01:07<00:00,  1.81s/it]\n"
     ]
    }
   ],
   "source": [
    "with sess:\n",
    "    samples_num = 100\n",
    "    for epoch in tqdm(range(EPOCH_NUM), file=sys.stdout):\n",
    "        perm = np.random.permutation(N)\n",
    "        for i in range(0, N, BATCH_SIZE):\n",
    "            batch_x = train_x[perm[i:i+BATCH_SIZE]]\n",
    "            batch_y = train_y2[perm[i:i+BATCH_SIZE]]\n",
    "            info_dict = inference.update(feed_dict={x_: batch_x, y_: batch_y})\n",
    "        train_lossmb_sag[epoch] = info_dict['loss']\n",
    "        y_samples = y.sample(samples_num).eval(feed_dict={x_: train_x})\n",
    "        acc = (np.round(y_samples.sum(axis=0) / samples_num) == train_y2).mean()\n",
    "        y_samples = y.sample(samples_num).eval(feed_dict={x_: test_x})\n",
    "        test_acc = (np.round(y_samples.sum(axis=0) / samples_num) == test_y2).mean()\n",
    "        if (epoch+1) % 10 == 0:\n",
    "            tqdm.write('epoch:\\t{}\\taccuracy:\\t{}\\tvaridation accuracy:\\t{}'.format(epoch+1, acc, test_acc))\n",
    "sess.close()"
   ]
  },
  {
   "cell_type": "code",
   "execution_count": 37,
   "metadata": {
    "collapsed": true
   },
   "outputs": [],
   "source": [
    "BATCH_SIZE = big_batch\n",
    "#build a bnn\n",
    "x_ = tf.placeholder(tf.float32, shape=(None, in_size))\n",
    "y_ = tf.placeholder(tf.int32, shape=(BATCH_SIZE))\n",
    "w = Normal(loc=tf.zeros([in_size, out_size]), scale=tf.ones([in_size, out_size]))\n",
    "b = Normal(loc=tf.zeros([out_size]), scale=tf.ones([out_size]))\n",
    "y_pre = Categorical(tf.matmul(x_, w) + b)\n",
    "qw = Normal(loc=tf.Variable(tf.random_normal([in_size, out_size])), scale=tf.Variable(tf.random_normal([in_size, out_size])))\n",
    "qb = Normal(loc=tf.Variable(tf.random_normal([out_size])), scale=tf.Variable(tf.random_normal([out_size])))\n",
    "\n",
    "y = Categorical(tf.matmul(x_, qw) + qb)\n",
    "inference = ed.KLqp({w: qw, b: qb}, data={y_pre: y_})\n",
    "inference.initialize()\n",
    "sess = tf.Session()\n",
    "sess.run(tf.global_variables_initializer())"
   ]
  },
  {
   "cell_type": "code",
   "execution_count": 38,
   "metadata": {
    "collapsed": false
   },
   "outputs": [
    {
     "name": "stdout",
     "output_type": "stream",
     "text": [
      "epoch:\t10\taccuracy:\t0.953142857143\tvaridation accuracy:\t0.91103202847\n",
      "epoch:\t20\taccuracy:\t0.956571428571\tvaridation accuracy:\t0.966192170819\n",
      "epoch:\t30\taccuracy:\t0.978\tvaridation accuracy:\t0.862989323843\n",
      "epoch:\t40\taccuracy:\t0.993857142857\tvaridation accuracy:\t0.903024911032\n",
      "100%|██████████| 40/40 [01:19<00:00,  2.09s/it]\n"
     ]
    }
   ],
   "source": [
    "with sess:\n",
    "    samples_num = 100\n",
    "    for epoch in tqdm(range(EPOCH_NUM), file=sys.stdout):\n",
    "        perm = np.random.permutation(N)\n",
    "        for i in range(0, N, BATCH_SIZE):\n",
    "            batch_x = train_x[perm[i:i+BATCH_SIZE]]\n",
    "            batch_y = train_y2[perm[i:i+BATCH_SIZE]]\n",
    "            info_dict = inference.update(feed_dict={x_: batch_x, y_: batch_y})\n",
    "        train_lossbb_sag[epoch] = info_dict['loss']\n",
    "        y_samples = y.sample(samples_num).eval(feed_dict={x_: train_x})\n",
    "        acc = (np.round(y_samples.sum(axis=0) / samples_num) == train_y2).mean()\n",
    "        y_samples = y.sample(samples_num).eval(feed_dict={x_: test_x})\n",
    "        test_acc = (np.round(y_samples.sum(axis=0) / samples_num) == test_y2).mean()\n",
    "        if (epoch+1) % 10 == 0:\n",
    "            tqdm.write('epoch:\\t{}\\taccuracy:\\t{}\\tvaridation accuracy:\\t{}'.format(epoch+1, acc, test_acc))\n",
    "sess.close()"
   ]
  },
  {
   "cell_type": "code",
   "execution_count": 39,
   "metadata": {
    "collapsed": false
   },
   "outputs": [
    {
     "data": {
      "image/png": "[encoded data removed]",
      "text/plain": [
       "<matplotlib.figure.Figure at 0x11a91d950>"
      ]
     },
     "metadata": {},
     "output_type": "display_data"
    }
   ],
   "source": [
    "fig, axes = plt.subplots(nrows=1, ncols=1, figsize=(16, 3.5))\n",
    "plt.plot(np.arange(EPOCH_NUM), train_losssb_sag / len(train_x), label='Small batch')\n",
    "plt.plot(np.arange(EPOCH_NUM), train_lossmb_sag / len(train_x), label='Mid batch')\n",
    "plt.plot(np.arange(EPOCH_NUM), train_lossbb_sag / len(train_x), label='Big batch')\n",
    "plt.legend(fontsize=20)\n",
    "plt.xlabel('Epoch', fontsize=15)\n",
    "plt.ylabel('KL', fontsize=15)\n",
    "plt.show()"
   ]
  },
  {
   "cell_type": "code",
   "execution_count": null,
   "metadata": {
    "collapsed": true
   },
   "outputs": [],
   "source": []
  },
  {
   "cell_type": "code",
   "execution_count": null,
   "metadata": {
    "collapsed": true
   },
   "outputs": [],
   "source": []
  },
  {
   "cell_type": "code",
   "execution_count": null,
   "metadata": {
    "collapsed": true
   },
   "outputs": [],
   "source": []
  },
  {
   "cell_type": "code",
   "execution_count": null,
   "metadata": {
    "collapsed": true
   },
   "outputs": [],
   "source": []
  }
 ],
 "metadata": {
  "kernelspec": {
   "display_name": "deeptech",
   "language": "python",
   "name": "deeptech"
  },
  "language_info": {
   "codemirror_mode": {
    "name": "ipython",
    "version": 2
   },
   "file_extension": ".py",
   "mimetype": "text/x-python",
   "name": "python",
   "nbconvert_exporter": "python",
   "pygments_lexer": "ipython2",
   "version": "2.7.10"
  }
 },
 "nbformat": 4,
 "nbformat_minor": 2
}

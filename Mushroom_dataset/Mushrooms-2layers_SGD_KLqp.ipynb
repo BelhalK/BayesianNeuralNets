{
 "cells": [
  {
   "cell_type": "code",
   "execution_count": 1,
   "metadata": {
    "collapsed": false
   },
   "outputs": [],
   "source": [
    "import numpy as np # linear algebra\n",
    "import pandas as pd # data processing, CSV file I/O (e.g. pd.read_csv)\n",
    "import sys\n",
    "from tqdm import tqdm\n",
    "import tensorflow as tf\n",
    "import edward as ed\n",
    "from edward.models import Normal, Categorical\n",
    "from subprocess import check_output\n",
    "import matplotlib.pyplot as plt\n",
    "\n",
    "ed.set_seed(12)\n",
    "%matplotlib inline"
   ]
  },
  {
   "cell_type": "code",
   "execution_count": 2,
   "metadata": {
    "collapsed": false
   },
   "outputs": [],
   "source": [
    "data = pd.read_csv('mushrooms.csv')"
   ]
  },
  {
   "cell_type": "code",
   "execution_count": 3,
   "metadata": {
    "collapsed": false
   },
   "outputs": [
    {
     "data": {
      "text/plain": [
       "(8124, 119)"
      ]
     },
     "execution_count": 3,
     "metadata": {},
     "output_type": "execute_result"
    }
   ],
   "source": [
    "data2 = pd.get_dummies(data)\n",
    "data2.shape"
   ]
  },
  {
   "cell_type": "code",
   "execution_count": 36,
   "metadata": {
    "collapsed": true
   },
   "outputs": [],
   "source": [
    "data_x = data2.loc[:, 'cap-shape_b':].as_matrix().astype(np.float32)\n",
    "data_y = data2.loc[:, :'class_p'].as_matrix().astype(np.float32)\n",
    "\n",
    "N = 7000\n",
    "train_x, test_x = data_x[:N], data_x[N:]\n",
    "train_y, test_y = data_y[:N], data_y[N:]\n",
    "\n",
    "in_size = train_x.shape[1]\n",
    "out_size = train_y.shape[1]\n",
    "\n",
    "\n",
    "# for bayesian neural network\n",
    "train_y2 = np.argmax(train_y, axis=1)\n",
    "test_y2 = np.argmax(test_y, axis=1)"
   ]
  },
  {
   "cell_type": "code",
   "execution_count": 37,
   "metadata": {
    "collapsed": true
   },
   "outputs": [],
   "source": [
    "EPOCH_NUM = 20\n",
    "BATCH_SIZE = 1000"
   ]
  },
  {
   "cell_type": "code",
   "execution_count": 38,
   "metadata": {
    "collapsed": false
   },
   "outputs": [],
   "source": [
    "#build a bnn\n",
    "x_ = tf.placeholder(tf.float32, shape=(None, in_size))\n",
    "y_ = tf.placeholder(tf.int32, shape=(BATCH_SIZE))"
   ]
  },
  {
   "cell_type": "code",
   "execution_count": 39,
   "metadata": {
    "collapsed": true
   },
   "outputs": [],
   "source": [
    "#two-layer neural network.\n",
    "def neural_network(x, W_0, W_1, b_0, b_1):\n",
    "    h = tf.matmul(x, W_0) + b_0\n",
    "    h = tf.tanh(h)\n",
    "    #h = tf.exp(tf.negative(tf.square(h)))\n",
    "    h = tf.matmul(h, W_1) + b_1\n",
    "    return h\n",
    "\n",
    "def display_draws(loss, train_x, EPOCH_NUM):\n",
    "    fig, axes = plt.subplots(nrows=1, ncols=1, figsize=(16, 3.5))\n",
    "    plt.plot(np.arange(EPOCH_NUM), train_loss / len(train_x), label='Train')\n",
    "    plt.legend(fontsize=20)\n",
    "    plt.xlabel('Epoch', fontsize=15)\n",
    "    plt.ylabel('KL', fontsize=15)\n",
    "    plt.show()"
   ]
  },
  {
   "cell_type": "markdown",
   "metadata": {},
   "source": [
    "# Compare Mini Batch Size (SGD of KLqp)"
   ]
  },
  {
   "cell_type": "code",
   "execution_count": 40,
   "metadata": {
    "collapsed": true
   },
   "outputs": [],
   "source": [
    "EPOCH_NUM = 40\n",
    "#batch sizes\n",
    "small_batch = N/10\n",
    "mid_batch = N/7\n",
    "big_batch = N/5\n",
    "#initialize losses\n",
    "train_losssb = np.zeros(EPOCH_NUM)\n",
    "train_lossmb = np.zeros(EPOCH_NUM)\n",
    "train_lossbb = np.zeros(EPOCH_NUM)"
   ]
  },
  {
   "cell_type": "markdown",
   "metadata": {
    "collapsed": false
   },
   "source": [
    "with sess:\n",
    "    batch_x = train_x[0:BATCH_SIZE]\n",
    "    batch_y = train_y2[0:BATCH_SIZE]\n",
    "    info_dict = inference.update(feed_dict={x_: batch_x, y_: batch_y})\n",
    "    train_losssb[0] = info_dict['loss']\n",
    "    train_lossmb[0] = info_dict['loss']\n",
    "    train_lossbb[0] = info_dict['loss']"
   ]
  },
  {
   "cell_type": "code",
   "execution_count": null,
   "metadata": {
    "collapsed": false
   },
   "outputs": [],
   "source": [
    "BATCH_SIZE = small_batch\n",
    "#build a bnn\n",
    "x_ = tf.placeholder(tf.float32, shape=(None, in_size))\n",
    "y_ = tf.placeholder(tf.int32, shape=(BATCH_SIZE))\n",
    "w0 = Normal(loc=tf.zeros([in_size, out_size]), scale=tf.ones([in_size, out_size]))\n",
    "b0 = Normal(loc=tf.zeros([out_size]), scale=tf.ones([out_size]))\n",
    "w1 = Normal(loc=tf.zeros([out_size, in_size]), scale=tf.ones([out_size, in_size]))\n",
    "b1 = Normal(loc=tf.zeros([in_size]), scale=tf.ones([in_size]))\n",
    "y_pre =Categorical(neural_network(x_, w0,w1, b0, b1))\n",
    "qw0 = Normal(loc=tf.Variable(tf.random_normal([in_size, out_size])), scale=tf.Variable(tf.random_normal([in_size, out_size])))\n",
    "qb0 = Normal(loc=tf.Variable(tf.random_normal([out_size])), scale=tf.Variable(tf.random_normal([out_size])))\n",
    "qw1 = Normal(loc=tf.Variable(tf.random_normal([out_size, in_size])), scale=tf.Variable(tf.random_normal([out_size, in_size])))\n",
    "qb1 = Normal(loc=tf.Variable(tf.random_normal([in_size])), scale=tf.Variable(tf.random_normal([in_size])))\n",
    "y =Categorical(neural_network(x_, qw0,qw1, qb0, qb1))\n",
    "\n",
    "inference = ed.KLqp({w0: qw0, b0: qb0,w1:qw1,b1:qb1}, data={y_pre: y_})\n",
    "inference.initialize()\n",
    "sess = tf.Session()\n",
    "sess.run(tf.global_variables_initializer())"
   ]
  },
  {
   "cell_type": "code",
   "execution_count": null,
   "metadata": {
    "collapsed": false
   },
   "outputs": [
    {
     "name": "stdout",
     "output_type": "stream",
     "text": [
      "epoch:\t10\taccuracy:\t0.106714285714\tvaridation accuracy:\t0.114768683274\n",
      " 45%|████▌     | 18/40 [00:31<00:38,  1.76s/it]"
     ]
    }
   ],
   "source": [
    "with sess:\n",
    "    samples_num = 100\n",
    "    for epoch in tqdm(range(EPOCH_NUM), file=sys.stdout):\n",
    "        perm = np.random.permutation(N)\n",
    "        for i in range(0, N, BATCH_SIZE):\n",
    "            batch_x = train_x[perm[i:i+BATCH_SIZE]]\n",
    "            batch_y = train_y2[perm[i:i+BATCH_SIZE]]\n",
    "            info_dict = inference.update(feed_dict={x_: batch_x, y_: batch_y})\n",
    "        train_losssb[epoch] = info_dict['loss']\n",
    "        y_samples = y.sample(samples_num).eval(feed_dict={x_: train_x})\n",
    "        acc = (np.round(y_samples.sum(axis=0) / samples_num) == train_y2).mean()\n",
    "        y_samples = y.sample(samples_num).eval(feed_dict={x_: test_x})\n",
    "        test_acc = (np.round(y_samples.sum(axis=0) / samples_num) == test_y2).mean()\n",
    "        if (epoch+1) % 10 == 0:\n",
    "            tqdm.write('epoch:\\t{}\\taccuracy:\\t{}\\tvaridation accuracy:\\t{}'.format(epoch+1, acc, test_acc))\n",
    "sess.close()"
   ]
  },
  {
   "cell_type": "code",
   "execution_count": null,
   "metadata": {
    "collapsed": true
   },
   "outputs": [],
   "source": [
    "BATCH_SIZE = mid_batch\n",
    "#build a bnn\n",
    "x_ = tf.placeholder(tf.float32, shape=(None, in_size))\n",
    "y_ = tf.placeholder(tf.int32, shape=(BATCH_SIZE))\n",
    "w0 = Normal(loc=tf.zeros([in_size, out_size]), scale=tf.ones([in_size, out_size]))\n",
    "b0 = Normal(loc=tf.zeros([out_size]), scale=tf.ones([out_size]))\n",
    "w1 = Normal(loc=tf.zeros([out_size, in_size]), scale=tf.ones([out_size, in_size]))\n",
    "b1 = Normal(loc=tf.zeros([in_size]), scale=tf.ones([in_size]))\n",
    "y_pre =Categorical(neural_network(x_, w0,w1, b0, b1))\n",
    "qw0 = Normal(loc=tf.Variable(tf.random_normal([in_size, out_size])), scale=tf.Variable(tf.random_normal([in_size, out_size])))\n",
    "qb0 = Normal(loc=tf.Variable(tf.random_normal([out_size])), scale=tf.Variable(tf.random_normal([out_size])))\n",
    "qw1 = Normal(loc=tf.Variable(tf.random_normal([out_size, in_size])), scale=tf.Variable(tf.random_normal([out_size, in_size])))\n",
    "qb1 = Normal(loc=tf.Variable(tf.random_normal([in_size])), scale=tf.Variable(tf.random_normal([in_size])))\n",
    "y =Categorical(neural_network(x_, qw0,qw1, qb0, qb1))\n",
    "\n",
    "inference = ed.KLqp({w0: qw0, b0: qb0,w1:qw1,b1:qb1}, data={y_pre: y_})\n",
    "inference.initialize()\n",
    "sess = tf.Session()\n",
    "sess.run(tf.global_variables_initializer())"
   ]
  },
  {
   "cell_type": "code",
   "execution_count": null,
   "metadata": {
    "collapsed": false
   },
   "outputs": [],
   "source": [
    "with sess:\n",
    "    samples_num = 100\n",
    "    for epoch in tqdm(range(EPOCH_NUM), file=sys.stdout):\n",
    "        perm = np.random.permutation(N)\n",
    "        for i in range(0, N, BATCH_SIZE):\n",
    "            batch_x = train_x[perm[i:i+BATCH_SIZE]]\n",
    "            batch_y = train_y2[perm[i:i+BATCH_SIZE]]\n",
    "            info_dict = inference.update(feed_dict={x_: batch_x, y_: batch_y})\n",
    "        train_lossmb[epoch] = info_dict['loss']\n",
    "        y_samples = y.sample(samples_num).eval(feed_dict={x_: train_x})\n",
    "        acc = (np.round(y_samples.sum(axis=0) / samples_num) == train_y2).mean()\n",
    "        y_samples = y.sample(samples_num).eval(feed_dict={x_: test_x})\n",
    "        test_acc = (np.round(y_samples.sum(axis=0) / samples_num) == test_y2).mean()\n",
    "        if (epoch+1) % 10 == 0:\n",
    "            tqdm.write('epoch:\\t{}\\taccuracy:\\t{}\\tvaridation accuracy:\\t{}'.format(epoch+1, acc, test_acc))\n",
    "sess.close()"
   ]
  },
  {
   "cell_type": "code",
   "execution_count": null,
   "metadata": {
    "collapsed": false
   },
   "outputs": [],
   "source": [
    "BATCH_SIZE = big_batch\n",
    "#build a bnn\n",
    "x_ = tf.placeholder(tf.float32, shape=(None, in_size))\n",
    "y_ = tf.placeholder(tf.int32, shape=(BATCH_SIZE))\n",
    "w0 = Normal(loc=tf.zeros([in_size, out_size]), scale=tf.ones([in_size, out_size]))\n",
    "b0 = Normal(loc=tf.zeros([out_size]), scale=tf.ones([out_size]))\n",
    "w1 = Normal(loc=tf.zeros([out_size, in_size]), scale=tf.ones([out_size, in_size]))\n",
    "b1 = Normal(loc=tf.zeros([in_size]), scale=tf.ones([in_size]))\n",
    "y_pre =Categorical(neural_network(x_, w0,w1, b0, b1))\n",
    "qw0 = Normal(loc=tf.Variable(tf.random_normal([in_size, out_size])), scale=tf.Variable(tf.random_normal([in_size, out_size])))\n",
    "qb0 = Normal(loc=tf.Variable(tf.random_normal([out_size])), scale=tf.Variable(tf.random_normal([out_size])))\n",
    "qw1 = Normal(loc=tf.Variable(tf.random_normal([out_size, in_size])), scale=tf.Variable(tf.random_normal([out_size, in_size])))\n",
    "qb1 = Normal(loc=tf.Variable(tf.random_normal([in_size])), scale=tf.Variable(tf.random_normal([in_size])))\n",
    "y =Categorical(neural_network(x_, qw0,qw1, qb0, qb1))\n",
    "\n",
    "inference = ed.KLqp({w0: qw0, b0: qb0,w1:qw1,b1:qb1}, data={y_pre: y_})\n",
    "inference.initialize()\n",
    "sess = tf.Session()\n",
    "sess.run(tf.global_variables_initializer())"
   ]
  },
  {
   "cell_type": "code",
   "execution_count": null,
   "metadata": {
    "collapsed": false
   },
   "outputs": [],
   "source": [
    "with sess:\n",
    "    samples_num = 100\n",
    "    for epoch in tqdm(range(EPOCH_NUM), file=sys.stdout):\n",
    "        perm = np.random.permutation(N)\n",
    "        for i in range(0, N, BATCH_SIZE):\n",
    "            batch_x = train_x[perm[i:i+BATCH_SIZE]]\n",
    "            batch_y = train_y2[perm[i:i+BATCH_SIZE]]\n",
    "            info_dict = inference.update(feed_dict={x_: batch_x, y_: batch_y})\n",
    "        train_lossbb[epoch] = info_dict['loss']\n",
    "        y_samples = y.sample(samples_num).eval(feed_dict={x_: train_x})\n",
    "        acc = (np.round(y_samples.sum(axis=0) / samples_num) == train_y2).mean()\n",
    "        y_samples = y.sample(samples_num).eval(feed_dict={x_: test_x})\n",
    "        test_acc = (np.round(y_samples.sum(axis=0) / samples_num) == test_y2).mean()\n",
    "        if (epoch+1) % 10 == 0:\n",
    "            tqdm.write('epoch:\\t{}\\taccuracy:\\t{}\\tvaridation accuracy:\\t{}'.format(epoch+1, acc, test_acc))\n",
    "sess.close()"
   ]
  },
  {
   "cell_type": "code",
   "execution_count": 31,
   "metadata": {
    "collapsed": false,
    "scrolled": true
   },
   "outputs": [
    {
     "data": {
      "image/png": "[encoded data removed]",
      "text/plain": [
       "<matplotlib.figure.Figure at 0x11b7b4c90>"
      ]
     },
     "metadata": {},
     "output_type": "display_data"
    }
   ],
   "source": [
    "fig, axes = plt.subplots(nrows=1, ncols=1, figsize=(16, 3.5))\n",
    "plt.plot(np.arange(EPOCH_NUM), train_losssb / len(train_x), label='Small batch')\n",
    "plt.plot(np.arange(EPOCH_NUM), train_lossmb / len(train_x), label='Mid batch')\n",
    "plt.plot(np.arange(EPOCH_NUM), train_lossbb / len(train_x), label='Big batch')\n",
    "plt.legend(fontsize=20)\n",
    "plt.xlabel('Epoch', fontsize=15)\n",
    "plt.ylabel('KL', fontsize=15)\n",
    "plt.show()"
   ]
  },
  {
   "cell_type": "code",
   "execution_count": null,
   "metadata": {
    "collapsed": true
   },
   "outputs": [],
   "source": []
  },
  {
   "cell_type": "code",
   "execution_count": null,
   "metadata": {
    "collapsed": true
   },
   "outputs": [],
   "source": []
  },
  {
   "cell_type": "code",
   "execution_count": null,
   "metadata": {
    "collapsed": true
   },
   "outputs": [],
   "source": []
  },
  {
   "cell_type": "code",
   "execution_count": null,
   "metadata": {
    "collapsed": true
   },
   "outputs": [],
   "source": []
  }
 ],
 "metadata": {
  "kernelspec": {
   "display_name": "deeptech",
   "language": "python",
   "name": "deeptech"
  },
  "language_info": {
   "codemirror_mode": {
    "name": "ipython",
    "version": 2
   },
   "file_extension": ".py",
   "mimetype": "text/x-python",
   "name": "python",
   "nbconvert_exporter": "python",
   "pygments_lexer": "ipython2",
   "version": "2.7.10"
  }
 },
 "nbformat": 4,
 "nbformat_minor": 2
}

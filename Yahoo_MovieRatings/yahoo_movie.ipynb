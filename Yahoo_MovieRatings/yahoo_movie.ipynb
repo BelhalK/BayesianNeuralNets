{
 "cells": [
  {
   "cell_type": "markdown",
   "metadata": {},
   "source": [
    "https://webscope.sandbox.yahoo.com/"
   ]
  },
  {
   "cell_type": "code",
   "execution_count": 1,
   "metadata": {
    "collapsed": false
   },
   "outputs": [],
   "source": [
    "import numpy as np # linear algebra\n",
    "import pandas as pd # data processing, CSV file I/O (e.g. pd.read_csv)\n",
    "import sys\n",
    "from tqdm import tqdm\n",
    "import tensorflow as tf\n",
    "import edward as ed\n",
    "from edward.models import Normal, Categorical\n",
    "from subprocess import check_output\n",
    "import matplotlib.pyplot as plt\n",
    "\n",
    "ed.set_seed(12)\n",
    "%matplotlib inline"
   ]
  },
  {
   "cell_type": "code",
   "execution_count": 19,
   "metadata": {
    "collapsed": false
   },
   "outputs": [],
   "source": [
    "train = pd.read_table('data/ydata-ymovies-user-movie-ratings-train-v1_0.txt', sep='\\t', header = 0)\n",
    "test = pd.read_table('data/ydata-ymovies-user-movie-ratings-test-v1_0.txt', sep='\\t', header = 0)\n",
    "demo = pd.read_table('data/ydata-ymovies-user-demographics-v1_0.txt', sep='\\t', header = 0)\n",
    "desc = pd.read_table('data/ydata-ymovies-movie-content-descr-v1_0.txt', sep='\\t', header = 0)\n",
    "movielens = pd.read_table('data/ydata-ymovies-mapping-to-movielens-v1_0.txt', sep='\\t', header = 0)"
   ]
  },
  {
   "cell_type": "code",
   "execution_count": 24,
   "metadata": {
    "collapsed": false
   },
   "outputs": [
    {
     "data": {
      "text/html": [
       "<div>\n",
       "<style>\n",
       "    .dataframe thead tr:only-child th {\n",
       "        text-align: right;\n",
       "    }\n",
       "\n",
       "    .dataframe thead th {\n",
       "        text-align: left;\n",
       "    }\n",
       "\n",
       "    .dataframe tbody tr th {\n",
       "        vertical-align: top;\n",
       "    }\n",
       "</style>\n",
       "<table border=\"1\" class=\"dataframe\">\n",
       "  <thead>\n",
       "    <tr style=\"text-align: right;\">\n",
       "      <th></th>\n",
       "      <th>1</th>\n",
       "      <th>1800029049</th>\n",
       "      <th>12</th>\n",
       "      <th>5</th>\n",
       "    </tr>\n",
       "  </thead>\n",
       "  <tbody>\n",
       "    <tr>\n",
       "      <th>0</th>\n",
       "      <td>1</td>\n",
       "      <td>1804857429</td>\n",
       "      <td>8</td>\n",
       "      <td>4</td>\n",
       "    </tr>\n",
       "    <tr>\n",
       "      <th>1</th>\n",
       "      <td>1</td>\n",
       "      <td>1800030906</td>\n",
       "      <td>13</td>\n",
       "      <td>5</td>\n",
       "    </tr>\n",
       "    <tr>\n",
       "      <th>2</th>\n",
       "      <td>1</td>\n",
       "      <td>1800018548</td>\n",
       "      <td>11</td>\n",
       "      <td>5</td>\n",
       "    </tr>\n",
       "    <tr>\n",
       "      <th>3</th>\n",
       "      <td>1</td>\n",
       "      <td>1800256362</td>\n",
       "      <td>9</td>\n",
       "      <td>4</td>\n",
       "    </tr>\n",
       "    <tr>\n",
       "      <th>4</th>\n",
       "      <td>1</td>\n",
       "      <td>1808438656</td>\n",
       "      <td>9</td>\n",
       "      <td>4</td>\n",
       "    </tr>\n",
       "  </tbody>\n",
       "</table>\n",
       "</div>"
      ],
      "text/plain": [
       "   1  1800029049  12  5\n",
       "0  1  1804857429   8  4\n",
       "1  1  1800030906  13  5\n",
       "2  1  1800018548  11  5\n",
       "3  1  1800256362   9  4\n",
       "4  1  1808438656   9  4"
      ]
     },
     "execution_count": 24,
     "metadata": {},
     "output_type": "execute_result"
    }
   ],
   "source": [
    "train.head()"
   ]
  },
  {
   "cell_type": "code",
   "execution_count": 4,
   "metadata": {
    "collapsed": true
   },
   "outputs": [],
   "source": [
    "data_x = data2.loc[:, 'cap-shape_b':].as_matrix().astype(np.float32)\n",
    "data_y = data2.loc[:, :'class_p'].as_matrix().astype(np.float32)\n",
    "\n",
    "N = 7000\n",
    "train_x, test_x = data_x[:N], data_x[N:]\n",
    "train_y, test_y = data_y[:N], data_y[N:]\n",
    "\n",
    "in_size = train_x.shape[1]\n",
    "out_size = train_y.shape[1]\n",
    "\n",
    "\n",
    "# for bayesian neural network\n",
    "train_y2 = np.argmax(train_y, axis=1)\n",
    "test_y2 = np.argmax(test_y, axis=1)"
   ]
  },
  {
   "cell_type": "code",
   "execution_count": 5,
   "metadata": {
    "collapsed": true
   },
   "outputs": [],
   "source": [
    "EPOCH_NUM = 20\n",
    "BATCH_SIZE = 1000"
   ]
  },
  {
   "cell_type": "code",
   "execution_count": 6,
   "metadata": {
    "collapsed": false
   },
   "outputs": [],
   "source": [
    "#build a bnn\n",
    "x_ = tf.placeholder(tf.float32, shape=(None, in_size))\n",
    "y_ = tf.placeholder(tf.int32, shape=(BATCH_SIZE))"
   ]
  },
  {
   "cell_type": "code",
   "execution_count": 7,
   "metadata": {
    "collapsed": true
   },
   "outputs": [],
   "source": [
    "#two-layer neural network.\n",
    "def neural_network(x, W_0, W_1, b_0, b_1):\n",
    "    h = tf.matmul(x, W_0) + b_0\n",
    "    h = tf.tanh(h)\n",
    "    #h = tf.exp(tf.negative(tf.square(h)))\n",
    "    h = tf.matmul(h, W_1) + b_1\n",
    "    return h\n",
    "\n",
    "def display_draws(loss, train_x, EPOCH_NUM):\n",
    "    fig, axes = plt.subplots(nrows=1, ncols=1, figsize=(16, 3.5))\n",
    "    plt.plot(np.arange(EPOCH_NUM), train_loss / len(train_x), label='Train')\n",
    "    plt.legend(fontsize=20)\n",
    "    plt.xlabel('Epoch', fontsize=15)\n",
    "    plt.ylabel('KL', fontsize=15)\n",
    "    plt.show()"
   ]
  },
  {
   "cell_type": "markdown",
   "metadata": {},
   "source": [
    "# Using GradientDescentOptimizer"
   ]
  },
  {
   "cell_type": "code",
   "execution_count": 8,
   "metadata": {
    "collapsed": true
   },
   "outputs": [],
   "source": [
    "EPOCH_NUM = 40\n",
    "#batch sizes\n",
    "small_batch = N/10\n",
    "mid_batch = N/7\n",
    "big_batch = N/5\n",
    "\n",
    "learning_rate = 5e-3\n",
    "#initialize losses\n",
    "train_losssb = np.zeros(EPOCH_NUM)\n",
    "train_lossmb = np.zeros(EPOCH_NUM)\n",
    "train_lossbb = np.zeros(EPOCH_NUM)"
   ]
  },
  {
   "cell_type": "code",
   "execution_count": 9,
   "metadata": {
    "collapsed": false
   },
   "outputs": [],
   "source": [
    "BATCH_SIZE = small_batch\n",
    "#build a bnn\n",
    "x_ = tf.placeholder(tf.float32, shape=(None, in_size))\n",
    "y_ = tf.placeholder(tf.int32, shape=(BATCH_SIZE))\n",
    "w0 = Normal(loc=tf.zeros([in_size, out_size]), scale=tf.ones([in_size, out_size]))\n",
    "b0 = Normal(loc=tf.zeros([out_size]), scale=tf.ones([out_size]))\n",
    "w1 = Normal(loc=tf.zeros([out_size, in_size]), scale=tf.ones([out_size, in_size]))\n",
    "b1 = Normal(loc=tf.zeros([in_size]), scale=tf.ones([in_size]))\n",
    "y_pre =Categorical(neural_network(x_, w0,w1, b0, b1))\n",
    "qw0 = Normal(loc=tf.Variable(tf.random_normal([in_size, out_size])), scale=tf.Variable(tf.random_normal([in_size, out_size])))\n",
    "qb0 = Normal(loc=tf.Variable(tf.random_normal([out_size])), scale=tf.Variable(tf.random_normal([out_size])))\n",
    "qw1 = Normal(loc=tf.Variable(tf.random_normal([out_size, in_size])), scale=tf.Variable(tf.random_normal([out_size, in_size])))\n",
    "qb1 = Normal(loc=tf.Variable(tf.random_normal([in_size])), scale=tf.Variable(tf.random_normal([in_size])))\n",
    "y =Categorical(neural_network(x_, qw0,qw1, qb0, qb1))\n",
    "\n",
    "inference = ed.KLqp({w0: qw0, b0: qb0,w1:qw1,b1:qb1}, data={y_pre: y_})\n",
    "optimizer = tf.train.GradientDescentOptimizer(learning_rate)\n",
    "inference.initialize(optimizer=optimizer, var_list=tf.trainable_variables())\n",
    "sess = tf.Session()\n",
    "sess.run(tf.global_variables_initializer())"
   ]
  },
  {
   "cell_type": "code",
   "execution_count": 10,
   "metadata": {
    "collapsed": false
   },
   "outputs": [
    {
     "name": "stdout",
     "output_type": "stream",
     "text": [
      "epoch:\t10\taccuracy:\t0.879571428571\tvaridation accuracy:\t0.0569395017794\n",
      "epoch:\t20\taccuracy:\t0.550285714286\tvaridation accuracy:\t0.343416370107\n",
      "epoch:\t30\taccuracy:\t0.694571428571\tvaridation accuracy:\t0.45640569395\n",
      "epoch:\t40\taccuracy:\t0.575\tvaridation accuracy:\t0.0836298932384\n",
      "100%|██████████| 40/40 [00:16<00:00,  1.73it/s]\n"
     ]
    }
   ],
   "source": [
    "with sess:\n",
    "    samples_num = 100\n",
    "    for epoch in tqdm(range(EPOCH_NUM), file=sys.stdout):\n",
    "        perm = np.random.permutation(N)\n",
    "        for i in range(0, N, BATCH_SIZE):\n",
    "            batch_x = train_x[perm[i:i+BATCH_SIZE]]\n",
    "            batch_y = train_y2[perm[i:i+BATCH_SIZE]]\n",
    "            info_dict = inference.update(feed_dict={x_: batch_x, y_: batch_y})\n",
    "        train_losssb[epoch] = info_dict['loss']\n",
    "        y_samples = y.sample(samples_num).eval(feed_dict={x_: train_x})\n",
    "        acc = (np.round(y_samples.sum(axis=0) / samples_num) == train_y2).mean()\n",
    "        y_samples = y.sample(samples_num).eval(feed_dict={x_: test_x})\n",
    "        test_acc = (np.round(y_samples.sum(axis=0) / samples_num) == test_y2).mean()\n",
    "        if (epoch+1) % 10 == 0:\n",
    "            tqdm.write('epoch:\\t{}\\taccuracy:\\t{}\\tvaridation accuracy:\\t{}'.format(epoch+1, acc, test_acc))\n",
    "sess.close()"
   ]
  },
  {
   "cell_type": "code",
   "execution_count": 11,
   "metadata": {
    "collapsed": true
   },
   "outputs": [],
   "source": [
    "BATCH_SIZE = mid_batch\n",
    "#build a bnn\n",
    "x_ = tf.placeholder(tf.float32, shape=(None, in_size))\n",
    "y_ = tf.placeholder(tf.int32, shape=(BATCH_SIZE))\n",
    "w0 = Normal(loc=tf.zeros([in_size, out_size]), scale=tf.ones([in_size, out_size]))\n",
    "b0 = Normal(loc=tf.zeros([out_size]), scale=tf.ones([out_size]))\n",
    "w1 = Normal(loc=tf.zeros([out_size, in_size]), scale=tf.ones([out_size, in_size]))\n",
    "b1 = Normal(loc=tf.zeros([in_size]), scale=tf.ones([in_size]))\n",
    "y_pre =Categorical(neural_network(x_, w0,w1, b0, b1))\n",
    "qw0 = Normal(loc=tf.Variable(tf.random_normal([in_size, out_size])), scale=tf.Variable(tf.random_normal([in_size, out_size])))\n",
    "qb0 = Normal(loc=tf.Variable(tf.random_normal([out_size])), scale=tf.Variable(tf.random_normal([out_size])))\n",
    "qw1 = Normal(loc=tf.Variable(tf.random_normal([out_size, in_size])), scale=tf.Variable(tf.random_normal([out_size, in_size])))\n",
    "qb1 = Normal(loc=tf.Variable(tf.random_normal([in_size])), scale=tf.Variable(tf.random_normal([in_size])))\n",
    "y =Categorical(neural_network(x_, qw0,qw1, qb0, qb1))\n",
    "\n",
    "inference = ed.KLqp({w0: qw0, b0: qb0,w1:qw1,b1:qb1}, data={y_pre: y_})\n",
    "optimizer = tf.train.GradientDescentOptimizer(learning_rate)\n",
    "inference.initialize(optimizer=optimizer, var_list=tf.trainable_variables())\n",
    "sess = tf.Session()\n",
    "sess.run(tf.global_variables_initializer())"
   ]
  },
  {
   "cell_type": "code",
   "execution_count": 12,
   "metadata": {
    "collapsed": false
   },
   "outputs": [
    {
     "name": "stdout",
     "output_type": "stream",
     "text": [
      "epoch:\t10\taccuracy:\t0.534857142857\tvaridation accuracy:\t0.4128113879\n",
      "epoch:\t20\taccuracy:\t0.534857142857\tvaridation accuracy:\t0.4128113879\n",
      "epoch:\t30\taccuracy:\t0.715857142857\tvaridation accuracy:\t0.73665480427\n",
      "epoch:\t40\taccuracy:\t0.884\tvaridation accuracy:\t0.988434163701\n",
      "100%|██████████| 40/40 [00:27<00:00,  1.31it/s]\n"
     ]
    }
   ],
   "source": [
    "with sess:\n",
    "    samples_num = 100\n",
    "    for epoch in tqdm(range(EPOCH_NUM), file=sys.stdout):\n",
    "        perm = np.random.permutation(N)\n",
    "        for i in range(0, N, BATCH_SIZE):\n",
    "            batch_x = train_x[perm[i:i+BATCH_SIZE]]\n",
    "            batch_y = train_y2[perm[i:i+BATCH_SIZE]]\n",
    "            info_dict = inference.update(feed_dict={x_: batch_x, y_: batch_y})\n",
    "        train_lossmb[epoch] = info_dict['loss']\n",
    "        y_samples = y.sample(samples_num).eval(feed_dict={x_: train_x})\n",
    "        acc = (np.round(y_samples.sum(axis=0) / samples_num) == train_y2).mean()\n",
    "        y_samples = y.sample(samples_num).eval(feed_dict={x_: test_x})\n",
    "        test_acc = (np.round(y_samples.sum(axis=0) / samples_num) == test_y2).mean()\n",
    "        if (epoch+1) % 10 == 0:\n",
    "            tqdm.write('epoch:\\t{}\\taccuracy:\\t{}\\tvaridation accuracy:\\t{}'.format(epoch+1, acc, test_acc))\n",
    "sess.close()"
   ]
  },
  {
   "cell_type": "code",
   "execution_count": 13,
   "metadata": {
    "collapsed": false
   },
   "outputs": [],
   "source": [
    "BATCH_SIZE = big_batch\n",
    "#build a bnn\n",
    "x_ = tf.placeholder(tf.float32, shape=(None, in_size))\n",
    "y_ = tf.placeholder(tf.int32, shape=(BATCH_SIZE))\n",
    "w0 = Normal(loc=tf.zeros([in_size, out_size]), scale=tf.ones([in_size, out_size]))\n",
    "b0 = Normal(loc=tf.zeros([out_size]), scale=tf.ones([out_size]))\n",
    "w1 = Normal(loc=tf.zeros([out_size, in_size]), scale=tf.ones([out_size, in_size]))\n",
    "b1 = Normal(loc=tf.zeros([in_size]), scale=tf.ones([in_size]))\n",
    "y_pre =Categorical(neural_network(x_, w0,w1, b0, b1))\n",
    "qw0 = Normal(loc=tf.Variable(tf.random_normal([in_size, out_size])), scale=tf.Variable(tf.random_normal([in_size, out_size])))\n",
    "qb0 = Normal(loc=tf.Variable(tf.random_normal([out_size])), scale=tf.Variable(tf.random_normal([out_size])))\n",
    "qw1 = Normal(loc=tf.Variable(tf.random_normal([out_size, in_size])), scale=tf.Variable(tf.random_normal([out_size, in_size])))\n",
    "qb1 = Normal(loc=tf.Variable(tf.random_normal([in_size])), scale=tf.Variable(tf.random_normal([in_size])))\n",
    "y =Categorical(neural_network(x_, qw0,qw1, qb0, qb1))\n",
    "\n",
    "inference = ed.KLqp({w0: qw0, b0: qb0,w1:qw1,b1:qb1}, data={y_pre: y_})\n",
    "optimizer = tf.train.GradientDescentOptimizer(learning_rate)\n",
    "inference.initialize(optimizer=optimizer, var_list=tf.trainable_variables())\n",
    "sess = tf.Session()\n",
    "sess.run(tf.global_variables_initializer())"
   ]
  },
  {
   "cell_type": "code",
   "execution_count": 14,
   "metadata": {
    "collapsed": false
   },
   "outputs": [
    {
     "name": "stdout",
     "output_type": "stream",
     "text": [
      "epoch:\t10\taccuracy:\t0.467\tvaridation accuracy:\t0.5871886121\n",
      "epoch:\t20\taccuracy:\t0.645571428571\tvaridation accuracy:\t0.835409252669\n",
      "epoch:\t30\taccuracy:\t0.867857142857\tvaridation accuracy:\t0.686832740214\n",
      "epoch:\t40\taccuracy:\t0.862142857143\tvaridation accuracy:\t0.918149466192\n",
      "100%|██████████| 40/40 [00:38<00:00,  1.02s/it]\n"
     ]
    }
   ],
   "source": [
    "with sess:\n",
    "    samples_num = 100\n",
    "    for epoch in tqdm(range(EPOCH_NUM), file=sys.stdout):\n",
    "        perm = np.random.permutation(N)\n",
    "        for i in range(0, N, BATCH_SIZE):\n",
    "            batch_x = train_x[perm[i:i+BATCH_SIZE]]\n",
    "            batch_y = train_y2[perm[i:i+BATCH_SIZE]]\n",
    "            info_dict = inference.update(feed_dict={x_: batch_x, y_: batch_y})\n",
    "        train_lossbb[epoch] = info_dict['loss']\n",
    "        y_samples = y.sample(samples_num).eval(feed_dict={x_: train_x})\n",
    "        acc = (np.round(y_samples.sum(axis=0) / samples_num) == train_y2).mean()\n",
    "        y_samples = y.sample(samples_num).eval(feed_dict={x_: test_x})\n",
    "        test_acc = (np.round(y_samples.sum(axis=0) / samples_num) == test_y2).mean()\n",
    "        if (epoch+1) % 10 == 0:\n",
    "            tqdm.write('epoch:\\t{}\\taccuracy:\\t{}\\tvaridation accuracy:\\t{}'.format(epoch+1, acc, test_acc))\n",
    "sess.close()"
   ]
  },
  {
   "cell_type": "code",
   "execution_count": 15,
   "metadata": {
    "collapsed": false,
    "scrolled": true
   },
   "outputs": [
    {
     "data": {
      "image/png": "[encoded data removed]",
      "text/plain": [
       "<matplotlib.figure.Figure at 0x115981450>"
      ]
     },
     "metadata": {},
     "output_type": "display_data"
    }
   ],
   "source": [
    "fig, axes = plt.subplots(nrows=1, ncols=1, figsize=(16, 3.5))\n",
    "plt.plot(np.arange(EPOCH_NUM), train_losssb / len(train_x), label='Small batch')\n",
    "plt.plot(np.arange(EPOCH_NUM), train_lossmb / len(train_x), label='Mid batch')\n",
    "plt.plot(np.arange(EPOCH_NUM), train_lossbb / len(train_x), label='Big batch')\n",
    "plt.legend(fontsize=20)\n",
    "plt.xlabel('Epoch', fontsize=15)\n",
    "plt.ylabel('KL', fontsize=15)\n",
    "plt.show()"
   ]
  },
  {
   "cell_type": "code",
   "execution_count": null,
   "metadata": {
    "collapsed": true
   },
   "outputs": [],
   "source": []
  },
  {
   "cell_type": "code",
   "execution_count": null,
   "metadata": {
    "collapsed": true
   },
   "outputs": [],
   "source": []
  },
  {
   "cell_type": "code",
   "execution_count": null,
   "metadata": {
    "collapsed": true
   },
   "outputs": [],
   "source": []
  },
  {
   "cell_type": "code",
   "execution_count": null,
   "metadata": {
    "collapsed": true
   },
   "outputs": [],
   "source": []
  }
 ],
 "metadata": {
  "kernelspec": {
   "display_name": "deeptech",
   "language": "python",
   "name": "deeptech"
  },
  "language_info": {
   "codemirror_mode": {
    "name": "ipython",
    "version": 2
   },
   "file_extension": ".py",
   "mimetype": "text/x-python",
   "name": "python",
   "nbconvert_exporter": "python",
   "pygments_lexer": "ipython2",
   "version": "2.7.10"
  }
 },
 "nbformat": 4,
 "nbformat_minor": 2
}
